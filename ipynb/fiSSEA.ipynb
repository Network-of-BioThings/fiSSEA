{
 "metadata": {
  "name": ""
 },
 "nbformat": 3,
 "nbformat_minor": 0,
 "worksheets": [
  {
   "cells": [
    {
     "cell_type": "heading",
     "level": 1,
     "metadata": {},
     "source": [
      "Libraries"
     ]
    },
    {
     "cell_type": "code",
     "collapsed": false,
     "input": [
      "import pandas as pd\n",
      "from pandas.io.json import json_normalize\n",
      "import mygene\n",
      "import numpy as np\n",
      "import os\n",
      "import myvariant\n",
      "import sys\n",
      "import time\n",
      "import gc\n",
      "import httplib2\n",
      "import json"
     ],
     "language": "python",
     "metadata": {},
     "outputs": [],
     "prompt_number": 17
    },
    {
     "cell_type": "code",
     "collapsed": false,
     "input": [
      "sys.path.append('/Users/erickscott/git/pandasVCF/src/single_sample/')\n",
      "from pdVCFsingle import *"
     ],
     "language": "python",
     "metadata": {},
     "outputs": [],
     "prompt_number": 2
    },
    {
     "cell_type": "heading",
     "level": 1,
     "metadata": {},
     "source": [
      "Snyder CDS Variants"
     ]
    },
    {
     "cell_type": "code",
     "collapsed": false,
     "input": [
      "vcf_path = '/Users/erickscott/datasets_raw/snyderome/TB0001907.all.ILLUMNIA.bwa.CEU.high_coverage.20101118.snp.raw.filtered.vcf.gz'\n",
      "os.system('bedtools intersect -a '+ vcf_path + ' -b refseq_exon.bed -wa -header > cds_snps.vcf')\n",
      "\n"
     ],
     "language": "python",
     "metadata": {},
     "outputs": [
      {
       "metadata": {},
       "output_type": "pyout",
       "prompt_number": 3,
       "text": [
        "0"
       ]
      }
     ],
     "prompt_number": 3
    },
    {
     "cell_type": "code",
     "collapsed": false,
     "input": [
      "\n",
      "snyder_df = Vcf('cds_snps.vcf', 'TB0001907', ['#CHROM', 'POS', 'REF', 'ALT', 'FORMAT'], chunksize=1000000)\n",
      "snyder_df.get_vcf_df_chunk()\n",
      "#snyder_df.add_variant_annotations(split_columns={'GL':3},inplace=True)\n",
      "\n",
      "\n",
      "\n"
     ],
     "language": "python",
     "metadata": {},
     "outputs": [
      {
       "metadata": {},
       "output_type": "pyout",
       "prompt_number": 3,
       "text": [
        "0"
       ]
      }
     ],
     "prompt_number": 3
    },
    {
     "cell_type": "code",
     "collapsed": false,
     "input": [
      "snyder_df.df.info()"
     ],
     "language": "python",
     "metadata": {},
     "outputs": [
      {
       "output_type": "stream",
       "stream": "stdout",
       "text": [
        "<class 'pandas.core.frame.DataFrame'>\n",
        "MultiIndex: 30814 entries, (chr1, 69270, A, G) to (chrY, 23545810, A, G)\n",
        "Data columns (total 6 columns):\n",
        "CHROM        30814 non-null object\n",
        "POS          30814 non-null int64\n",
        "REF          30814 non-null object\n",
        "ALT          30814 non-null object\n",
        "FORMAT       30814 non-null object\n",
        "TB0001907    30814 non-null object\n",
        "dtypes: int64(1), object(5)\n",
        "memory usage: 1.6 MB\n"
       ]
      }
     ],
     "prompt_number": 4
    },
    {
     "cell_type": "code",
     "collapsed": false,
     "input": [
      "snyder_df.add_variant_annotations(split_columns={'GL':3}, inplace=True)\n"
     ],
     "language": "python",
     "metadata": {},
     "outputs": [
      {
       "output_type": "stream",
       "stream": "stderr",
       "text": [
        "/Users/erickscott/git/pandasVCF/src/single_sample/variantAnnotations.py:164: SettingWithCopyWarning: \n",
        "A value is trying to be set on a copy of a slice from a DataFrame.\n",
        "Try using .loc[row_indexer,col_indexer] = value instead\n",
        "\n",
        "See the the caveats in the documentation: http://pandas.pydata.org/pandas-docs/stable/indexing.html#indexing-view-versus-copy\n",
        "  df_hom_alt['zygosity'] = 'hom-alt'\n",
        "/Users/erickscott/git/pandasVCF/src/single_sample/variantAnnotations.py:167: SettingWithCopyWarning: \n",
        "A value is trying to be set on a copy of a slice from a DataFrame.\n",
        "Try using .loc[row_indexer,col_indexer] = value instead\n",
        "\n",
        "See the the caveats in the documentation: http://pandas.pydata.org/pandas-docs/stable/indexing.html#indexing-view-versus-copy\n",
        "  df_het_ref['zygosity'] = 'het-ref'\n"
       ]
      },
      {
       "output_type": "stream",
       "stream": "stderr",
       "text": [
        "/Library/Frameworks/EPD64.framework/Versions/7.3/lib/python2.7/site-packages/pandas/core/generic.py:2624: SettingWithCopyWarning: \n",
        "A value is trying to be set on a copy of a slice from a DataFrame\n",
        "\n",
        "See the the caveats in the documentation: http://pandas.pydata.org/pandas-docs/stable/indexing.html#indexing-view-versus-copy\n",
        "  self._update_inplace(new_data)\n"
       ]
      },
      {
       "metadata": {},
       "output_type": "pyout",
       "prompt_number": 5,
       "text": [
        "0"
       ]
      }
     ],
     "prompt_number": 5
    },
    {
     "cell_type": "heading",
     "level": 2,
     "metadata": {},
     "source": [
      "MyVariant.info Query and Parsing"
     ]
    },
    {
     "cell_type": "code",
     "collapsed": false,
     "input": [
      "reload(myvariant)\n",
      "mv = myvariant.MyVariantInfo()\n",
      "#%timeit a = mv.query_variant(\"chr2:179392080-179669337\", size=2000)\n"
     ],
     "language": "python",
     "metadata": {},
     "outputs": [],
     "prompt_number": 6
    },
    {
     "cell_type": "code",
     "collapsed": false,
     "input": [
      "testing = mv.query_variant(\"chr2:179392080-179669337\", size=2)"
     ],
     "language": "python",
     "metadata": {},
     "outputs": [],
     "prompt_number": 165
    },
    {
     "cell_type": "code",
     "collapsed": false,
     "input": [
      "def normalize_myvariant(mv_results):\n",
      "    '''\n",
      "    This function converts a myvariant.info\n",
      "    query into a normalized pandas df\n",
      "    '''\n",
      "    mv_norm = []\n",
      "    for hits in mv_results['hits']['hits']:\n",
      "        mv_norm.append(json_normalize(hits))\n",
      "    mv_norm = pd.concat(mv_norm)\n",
      "    mv_norm.index = mv_norm['_id']\n",
      "    return mv_norm.T"
     ],
     "language": "python",
     "metadata": {},
     "outputs": [],
     "prompt_number": 8
    },
    {
     "cell_type": "code",
     "collapsed": false,
     "input": [
      "b = normalize_myvariant(testing)\n",
      "b.ix['_source.dbnsfp.cadd.raw']"
     ],
     "language": "python",
     "metadata": {},
     "outputs": [
      {
       "metadata": {},
       "output_type": "pyout",
       "prompt_number": 169,
       "text": [
        "_id\n",
        "chr2:g.179460249A>G    2.904258\n",
        "chr2:g.179410271C>G    4.052134\n",
        "Name: _source.dbnsfp.cadd.raw, dtype: object"
       ]
      }
     ],
     "prompt_number": 169
    },
    {
     "cell_type": "code",
     "collapsed": false,
     "input": [
      "b.T[['_source.dbnsfp.cadd.raw', '_source.mutdb.dbsnp_id', '_source.dbnsfp.ensembl.geneid', '_source.dbnsfp.aapos_sift']]"
     ],
     "language": "python",
     "metadata": {},
     "outputs": [
      {
       "html": [
        "<div style=\"max-height:1000px;max-width:1500px;overflow:auto;\">\n",
        "<table border=\"1\" class=\"dataframe\">\n",
        "  <thead>\n",
        "    <tr style=\"text-align: right;\">\n",
        "      <th></th>\n",
        "      <th>_source.dbnsfp.cadd.raw</th>\n",
        "      <th>_source.mutdb.dbsnp_id</th>\n",
        "      <th>_source.dbnsfp.ensembl.geneid</th>\n",
        "      <th>_source.dbnsfp.aapos_sift</th>\n",
        "    </tr>\n",
        "    <tr>\n",
        "      <th>_id</th>\n",
        "      <th></th>\n",
        "      <th></th>\n",
        "      <th></th>\n",
        "      <th></th>\n",
        "    </tr>\n",
        "  </thead>\n",
        "  <tbody>\n",
        "    <tr>\n",
        "      <th>chr2:g.179460249A&gt;G</th>\n",
        "      <td> 2.904258</td>\n",
        "      <td> rs56025724</td>\n",
        "      <td> ENSG00000155657</td>\n",
        "      <td> ENSP00000340554:I10405T</td>\n",
        "    </tr>\n",
        "    <tr>\n",
        "      <th>chr2:g.179410271C&gt;G</th>\n",
        "      <td> 4.052134</td>\n",
        "      <td> rs72648261</td>\n",
        "      <td> ENSG00000155657</td>\n",
        "      <td> ENSP00000340554:R22983P</td>\n",
        "    </tr>\n",
        "  </tbody>\n",
        "</table>\n",
        "</div>"
       ],
       "metadata": {},
       "output_type": "pyout",
       "prompt_number": 170,
       "text": [
        "                    _source.dbnsfp.cadd.raw _source.mutdb.dbsnp_id  \\\n",
        "_id                                                                  \n",
        "chr2:g.179460249A>G                2.904258             rs56025724   \n",
        "chr2:g.179410271C>G                4.052134             rs72648261   \n",
        "\n",
        "                    _source.dbnsfp.ensembl.geneid _source.dbnsfp.aapos_sift  \n",
        "_id                                                                          \n",
        "chr2:g.179460249A>G               ENSG00000155657   ENSP00000340554:I10405T  \n",
        "chr2:g.179410271C>G               ENSG00000155657   ENSP00000340554:R22983P  "
       ]
      }
     ],
     "prompt_number": 170
    },
    {
     "cell_type": "code",
     "collapsed": false,
     "input": [
      "c = b.T['_source.dbnsfp.cadd.raw'].to_dict()\n",
      "c"
     ],
     "language": "python",
     "metadata": {},
     "outputs": [
      {
       "metadata": {},
       "output_type": "pyout",
       "prompt_number": 177,
       "text": [
        "{u'chr2:g.179410271C>G': 4.052134, u'chr2:g.179460249A>G': 2.904258}"
       ]
      }
     ],
     "prompt_number": 177
    },
    {
     "cell_type": "code",
     "collapsed": false,
     "input": [
      "json_normalize(json.loads(con), 'docs')"
     ],
     "language": "python",
     "metadata": {},
     "outputs": [
      {
       "html": [
        "<div style=\"max-height:1000px;max-width:1500px;overflow:auto;\">\n",
        "<table border=\"1\" class=\"dataframe\">\n",
        "  <thead>\n",
        "    <tr style=\"text-align: right;\">\n",
        "      <th></th>\n",
        "      <th>_id</th>\n",
        "      <th>_index</th>\n",
        "      <th>_source</th>\n",
        "      <th>_type</th>\n",
        "      <th>_version</th>\n",
        "      <th>found</th>\n",
        "    </tr>\n",
        "  </thead>\n",
        "  <tbody>\n",
        "    <tr>\n",
        "      <th>0</th>\n",
        "      <td> chr1:g.16380252C&gt;T</td>\n",
        "      <td> myvariant_current_1</td>\n",
        "      <td> {u'dbsnp': {u'chromEnd': 16380252, u'snpclass'...</td>\n",
        "      <td> variant</td>\n",
        "      <td>  2</td>\n",
        "      <td>  True</td>\n",
        "    </tr>\n",
        "    <tr>\n",
        "      <th>1</th>\n",
        "      <td> chr1:g.16384986G&gt;T</td>\n",
        "      <td> myvariant_current_1</td>\n",
        "      <td> {u'dbsnp': {u'chromEnd': 16384986, u'snpclass'...</td>\n",
        "      <td> variant</td>\n",
        "      <td>  5</td>\n",
        "      <td>  True</td>\n",
        "    </tr>\n",
        "    <tr>\n",
        "      <th>2</th>\n",
        "      <td> chr1:g.16384998G&gt;C</td>\n",
        "      <td> myvariant_current_1</td>\n",
        "      <td> {u'_id': u'chr1:g.16384998G&gt;C', u'dbnsfp': {u'...</td>\n",
        "      <td> variant</td>\n",
        "      <td>  1</td>\n",
        "      <td>  True</td>\n",
        "    </tr>\n",
        "    <tr>\n",
        "      <th>3</th>\n",
        "      <td> chr1:g.16384999G&gt;A</td>\n",
        "      <td> myvariant_current_1</td>\n",
        "      <td>                                               NaN</td>\n",
        "      <td> variant</td>\n",
        "      <td>NaN</td>\n",
        "      <td> False</td>\n",
        "    </tr>\n",
        "    <tr>\n",
        "      <th>4</th>\n",
        "      <td> chr1:g.16385042G&gt;A</td>\n",
        "      <td> myvariant_current_1</td>\n",
        "      <td>                                               NaN</td>\n",
        "      <td> variant</td>\n",
        "      <td>NaN</td>\n",
        "      <td> False</td>\n",
        "    </tr>\n",
        "    <tr>\n",
        "      <th>5</th>\n",
        "      <td> chr1:g.16385175G&gt;A</td>\n",
        "      <td> myvariant_current_1</td>\n",
        "      <td>                                               NaN</td>\n",
        "      <td> variant</td>\n",
        "      <td>NaN</td>\n",
        "      <td> False</td>\n",
        "    </tr>\n",
        "    <tr>\n",
        "      <th>6</th>\n",
        "      <td> chr1:g.16385178G&gt;A</td>\n",
        "      <td> myvariant_current_1</td>\n",
        "      <td>                                               NaN</td>\n",
        "      <td> variant</td>\n",
        "      <td>NaN</td>\n",
        "      <td> False</td>\n",
        "    </tr>\n",
        "    <tr>\n",
        "      <th>7</th>\n",
        "      <td> chr1:g.16385184G&gt;A</td>\n",
        "      <td> myvariant_current_1</td>\n",
        "      <td> {u'_id': u'chr1:g.16385184G&gt;A', u'dbnsfp': {u'...</td>\n",
        "      <td> variant</td>\n",
        "      <td>  1</td>\n",
        "      <td>  True</td>\n",
        "    </tr>\n",
        "    <tr>\n",
        "      <th>8</th>\n",
        "      <td> chr1:g.16386008T&gt;C</td>\n",
        "      <td> myvariant_current_1</td>\n",
        "      <td>                                               NaN</td>\n",
        "      <td> variant</td>\n",
        "      <td>NaN</td>\n",
        "      <td> False</td>\n",
        "    </tr>\n",
        "    <tr>\n",
        "      <th>9</th>\n",
        "      <td> chr1:g.16386065T&gt;A</td>\n",
        "      <td> myvariant_current_1</td>\n",
        "      <td>                                               NaN</td>\n",
        "      <td> variant</td>\n",
        "      <td>NaN</td>\n",
        "      <td> False</td>\n",
        "    </tr>\n",
        "  </tbody>\n",
        "</table>\n",
        "</div>"
       ],
       "metadata": {},
       "output_type": "pyout",
       "prompt_number": 237,
       "text": [
        "                  _id               _index  \\\n",
        "0  chr1:g.16380252C>T  myvariant_current_1   \n",
        "1  chr1:g.16384986G>T  myvariant_current_1   \n",
        "2  chr1:g.16384998G>C  myvariant_current_1   \n",
        "3  chr1:g.16384999G>A  myvariant_current_1   \n",
        "4  chr1:g.16385042G>A  myvariant_current_1   \n",
        "5  chr1:g.16385175G>A  myvariant_current_1   \n",
        "6  chr1:g.16385178G>A  myvariant_current_1   \n",
        "7  chr1:g.16385184G>A  myvariant_current_1   \n",
        "8  chr1:g.16386008T>C  myvariant_current_1   \n",
        "9  chr1:g.16386065T>A  myvariant_current_1   \n",
        "\n",
        "                                             _source    _type  _version  found  \n",
        "0  {u'dbsnp': {u'chromEnd': 16380252, u'snpclass'...  variant         2   True  \n",
        "1  {u'dbsnp': {u'chromEnd': 16384986, u'snpclass'...  variant         5   True  \n",
        "2  {u'_id': u'chr1:g.16384998G>C', u'dbnsfp': {u'...  variant         1   True  \n",
        "3                                                NaN  variant       NaN  False  \n",
        "4                                                NaN  variant       NaN  False  \n",
        "5                                                NaN  variant       NaN  False  \n",
        "6                                                NaN  variant       NaN  False  \n",
        "7  {u'_id': u'chr1:g.16385184G>A', u'dbnsfp': {u'...  variant         1   True  \n",
        "8                                                NaN  variant       NaN  False  \n",
        "9                                                NaN  variant       NaN  False  "
       ]
      }
     ],
     "prompt_number": 237
    },
    {
     "cell_type": "code",
     "collapsed": false,
     "input": [
      "\n",
      "def get_fi_scores_post(hgvs_list):\n",
      "    '''\n",
      "    Expects list length 10000\n",
      "    Raw Elastic Search Results\n",
      "    \n",
      "    '''\n",
      "    \n",
      "    \n",
      "    def normalize(con):\n",
      "        '''\n",
      "        This function uses the json.loads and json_normalize\n",
      "        modules to flatten the myvariant.info results\n",
      "        '''\n",
      "        temp_df = json_normalize(json.loads(con), 'docs')\n",
      "        source_parsed = []\n",
      "        for source_json in temp_df['_source'].values:\n",
      "            try:\n",
      "                source_parsed.append(json_normalize(source_json))\n",
      "            except TypeError:  #occurs with empty results\n",
      "                pass\n",
      "        return pd.concat(source_parsed)\n",
      "    \n",
      "    \n",
      "    \n",
      "    if type(hgvs_list) == list:\n",
      "        hgvs_list = ','.join(hgvs_list)\n",
      "        \n",
      "    assert type(hgvs_list) == str\n",
      "    \n",
      "    h = httplib2.Http()\n",
      "    headers = {'content-type': 'application/x-www-form-urlencoded'}\n",
      "    params = 'ids=' + hgvs_list +\",size=1000\"\n",
      "    #print params\n",
      "    res, con = h.request('http://myvariant.info/api/variant/', 'POST', params, headers=headers)\n",
      "    \n",
      "    \n",
      "    mv_df = normalize(con)\n",
      "    mv_df.index = mv_df['_id']\n",
      "    cadd_scores = mv_df[['dbnsfp.cadd.raw', 'mutdb.dbsnp_id', 'dbnsfp.ensembl.geneid', 'dbnsfp.aapos_sift']]\n",
      "    cadd_scores.dropna(subset=['dbnsfp.cadd.raw'], inplace=True)\n",
      "    return cadd_scores\n",
      "    "
     ],
     "language": "python",
     "metadata": {},
     "outputs": [],
     "prompt_number": 52
    },
    {
     "cell_type": "heading",
     "level": 1,
     "metadata": {},
     "source": [
      "Synderome MyVariant Queries"
     ]
    },
    {
     "cell_type": "code",
     "collapsed": false,
     "input": [
      "snyderome = snyder_df.df.copy()\n",
      "snyderome.reset_index(inplace=True)\n",
      "snyderome['hgvs_id'] = snyderome['CHROM'].astype(str) + \":g.\" + snyderome['POS'].astype(str) + \\\n",
      "                            snyderome['REF'] + '>' +  snyderome['ALT']\n",
      "    "
     ],
     "language": "python",
     "metadata": {},
     "outputs": [],
     "prompt_number": 108
    },
    {
     "cell_type": "code",
     "collapsed": false,
     "input": [
      "hgvs_list = list(snyderome['hgvs_id'])\n",
      "\n",
      "#mv_test = mv.getvariants(hgvs_list, return_raw=True)\n",
      "#mv_test"
     ],
     "language": "python",
     "metadata": {},
     "outputs": [],
     "prompt_number": 9
    },
    {
     "cell_type": "code",
     "collapsed": false,
     "input": [
      "%time timed_test = get_fi_scores_post(','.join(hgvs_list[1000:2000]))"
     ],
     "language": "python",
     "metadata": {},
     "outputs": [
      {
       "output_type": "stream",
       "stream": "stdout",
       "text": [
        "CPU times: user 3.77 s, sys: 24.1 ms, total: 3.79 s\n",
        "Wall time: 4.16 s\n"
       ]
      },
      {
       "output_type": "stream",
       "stream": "stderr",
       "text": [
        "-c:37: SettingWithCopyWarning: \n",
        "A value is trying to be set on a copy of a slice from a DataFrame\n",
        "\n",
        "See the the caveats in the documentation: http://pandas.pydata.org/pandas-docs/stable/indexing.html#indexing-view-versus-copy\n"
       ]
      }
     ],
     "prompt_number": 53
    },
    {
     "cell_type": "code",
     "collapsed": false,
     "input": [
      "def chunker(seq, size):\n",
      "    return (seq[pos:pos + size] for pos in xrange(0, len(seq), size))\n",
      "\n",
      "master_cadd = []\n",
      "for hgvs in chunker(hgvs_list, 1000):\n",
      "    master_cadd.append(get_fi_scores_post(','.join(hgvs)))\n"
     ],
     "language": "python",
     "metadata": {},
     "outputs": [],
     "prompt_number": 55
    },
    {
     "cell_type": "code",
     "collapsed": false,
     "input": [
      "cadd_df = pd.concat(master_cadd)\n"
     ],
     "language": "python",
     "metadata": {},
     "outputs": [],
     "prompt_number": 56
    },
    {
     "cell_type": "code",
     "collapsed": false,
     "input": [
      "cadd_dict = cadd_df['dbnsfp.cadd.raw'].to_dict()\n",
      "cadd_dict_replace = {'hgvs_a2':cadd_dict, 'hgvs_a1':cadd_dict}"
     ],
     "language": "python",
     "metadata": {},
     "outputs": [],
     "prompt_number": 62
    },
    {
     "cell_type": "heading",
     "level": 1,
     "metadata": {},
     "source": [
      "Translating GENOTYPES FOR CADD SCORES"
     ]
    },
    {
     "cell_type": "code",
     "collapsed": false,
     "input": [
      "snyderome.index = snyderome.hgvs_id\n",
      "snyderome = snyderome[snyderome['hgvs_id'].isin(cadd_dict)]"
     ],
     "language": "python",
     "metadata": {},
     "outputs": [],
     "prompt_number": 126
    },
    {
     "cell_type": "code",
     "collapsed": false,
     "input": [
      "snyderome['hgvs_a1'] = snyderome['CHROM'].astype(str) + \":g.\" + snyderome['POS'].astype(str) + \\\n",
      "                            snyderome['REF'] + '>' +  snyderome['a1']\n",
      "    \n",
      "snyderome['hgvs_a2'] = snyderome['CHROM'].astype(str) + \":g.\" + snyderome['POS'].astype(str) + \\\n",
      "                            snyderome['REF'] + '>' +  snyderome['a2']    "
     ],
     "language": "python",
     "metadata": {},
     "outputs": [],
     "prompt_number": 113
    },
    {
     "cell_type": "code",
     "collapsed": false,
     "input": [
      "%time snyderome.replace(to_replace=cadd_dict_replace, inplace=True)"
     ],
     "language": "python",
     "metadata": {},
     "outputs": [
      {
       "output_type": "stream",
       "stream": "stdout",
       "text": [
        "CPU times: user 27.2 s, sys: 127 ms, total: 27.3 s\n",
        "Wall time: 27.2 s\n"
       ]
      }
     ],
     "prompt_number": 122
    },
    {
     "cell_type": "code",
     "collapsed": false,
     "input": [
      "snyderome['hgvs_a1'] = snyderome['hgvs_a1'].map(lambda x: 0 if '>' in str(x) else x)\n",
      "snyderome['hgvs_a2'] = snyderome['hgvs_a2'].map(lambda x: 0 if '>' in str(x) else x)"
     ],
     "language": "python",
     "metadata": {},
     "outputs": [],
     "prompt_number": 124
    },
    {
     "cell_type": "code",
     "collapsed": false,
     "input": [
      "cadd_df.head()"
     ],
     "language": "python",
     "metadata": {},
     "outputs": [
      {
       "html": [
        "<div style=\"max-height:1000px;max-width:1500px;overflow:auto;\">\n",
        "<table border=\"1\" class=\"dataframe\">\n",
        "  <thead>\n",
        "    <tr style=\"text-align: right;\">\n",
        "      <th></th>\n",
        "      <th>dbnsfp.cadd.raw</th>\n",
        "      <th>mutdb.dbsnp_id</th>\n",
        "      <th>dbnsfp.ensembl.geneid</th>\n",
        "      <th>dbnsfp.aapos_sift</th>\n",
        "    </tr>\n",
        "    <tr>\n",
        "      <th>_id</th>\n",
        "      <th></th>\n",
        "      <th></th>\n",
        "      <th></th>\n",
        "      <th></th>\n",
        "    </tr>\n",
        "  </thead>\n",
        "  <tbody>\n",
        "    <tr>\n",
        "      <th>chr1:g.878314G&gt;C</th>\n",
        "      <td>-0.649726</td>\n",
        "      <td> NaN</td>\n",
        "      <td> ENSG00000187634</td>\n",
        "      <td>  ENSP00000349216:G388R</td>\n",
        "    </tr>\n",
        "    <tr>\n",
        "      <th>chr1:g.915227A&gt;G</th>\n",
        "      <td> 0.278723</td>\n",
        "      <td> NaN</td>\n",
        "      <td> ENSG00000187642</td>\n",
        "      <td>  ENSP00000343864:L281S</td>\n",
        "    </tr>\n",
        "    <tr>\n",
        "      <th>chr1:g.935222C&gt;A</th>\n",
        "      <td>-0.524901</td>\n",
        "      <td> NaN</td>\n",
        "      <td> ENSG00000188290</td>\n",
        "      <td>   ENSP00000393198:G45W</td>\n",
        "    </tr>\n",
        "    <tr>\n",
        "      <th>chr1:g.982994T&gt;C</th>\n",
        "      <td> 2.221987</td>\n",
        "      <td> NaN</td>\n",
        "      <td> ENSG00000188157</td>\n",
        "      <td> ENSP00000368678:F1186S</td>\n",
        "    </tr>\n",
        "    <tr>\n",
        "      <th>chr1:g.1223385G&gt;C</th>\n",
        "      <td> 0.249466</td>\n",
        "      <td> NaN</td>\n",
        "      <td> ENSG00000162572</td>\n",
        "      <td>                    NaN</td>\n",
        "    </tr>\n",
        "  </tbody>\n",
        "</table>\n",
        "</div>"
       ],
       "metadata": {},
       "output_type": "pyout",
       "prompt_number": 128,
       "text": [
        "                   dbnsfp.cadd.raw mutdb.dbsnp_id dbnsfp.ensembl.geneid  \\\n",
        "_id                                                                       \n",
        "chr1:g.878314G>C         -0.649726            NaN       ENSG00000187634   \n",
        "chr1:g.915227A>G          0.278723            NaN       ENSG00000187642   \n",
        "chr1:g.935222C>A         -0.524901            NaN       ENSG00000188290   \n",
        "chr1:g.982994T>C          2.221987            NaN       ENSG00000188157   \n",
        "chr1:g.1223385G>C         0.249466            NaN       ENSG00000162572   \n",
        "\n",
        "                        dbnsfp.aapos_sift  \n",
        "_id                                        \n",
        "chr1:g.878314G>C    ENSP00000349216:G388R  \n",
        "chr1:g.915227A>G    ENSP00000343864:L281S  \n",
        "chr1:g.935222C>A     ENSP00000393198:G45W  \n",
        "chr1:g.982994T>C   ENSP00000368678:F1186S  \n",
        "chr1:g.1223385G>C                     NaN  "
       ]
      }
     ],
     "prompt_number": 128
    },
    {
     "cell_type": "code",
     "collapsed": false,
     "input": [
      "snyderome = snyderome.join(cadd_df['dbnsfp.ensembl.geneid'], how='left')\n",
      "snyderome.head()"
     ],
     "language": "python",
     "metadata": {},
     "outputs": [
      {
       "html": [
        "<div style=\"max-height:1000px;max-width:1500px;overflow:auto;\">\n",
        "<table border=\"1\" class=\"dataframe\">\n",
        "  <thead>\n",
        "    <tr style=\"text-align: right;\">\n",
        "      <th></th>\n",
        "      <th>CHROM</th>\n",
        "      <th>POS</th>\n",
        "      <th>REF</th>\n",
        "      <th>ALT</th>\n",
        "      <th>multiallele</th>\n",
        "      <th>phase</th>\n",
        "      <th>GT1</th>\n",
        "      <th>GT2</th>\n",
        "      <th>a1</th>\n",
        "      <th>a2</th>\n",
        "      <th>...</th>\n",
        "      <th>GT</th>\n",
        "      <th>DP</th>\n",
        "      <th>GQ</th>\n",
        "      <th>GL_0</th>\n",
        "      <th>GL_1</th>\n",
        "      <th>GL_2</th>\n",
        "      <th>hgvs_id</th>\n",
        "      <th>hgvs_a1</th>\n",
        "      <th>hgvs_a2</th>\n",
        "      <th>dbnsfp.ensembl.geneid</th>\n",
        "    </tr>\n",
        "    <tr>\n",
        "      <th>hgvs_id</th>\n",
        "      <th></th>\n",
        "      <th></th>\n",
        "      <th></th>\n",
        "      <th></th>\n",
        "      <th></th>\n",
        "      <th></th>\n",
        "      <th></th>\n",
        "      <th></th>\n",
        "      <th></th>\n",
        "      <th></th>\n",
        "      <th></th>\n",
        "      <th></th>\n",
        "      <th></th>\n",
        "      <th></th>\n",
        "      <th></th>\n",
        "      <th></th>\n",
        "      <th></th>\n",
        "      <th></th>\n",
        "      <th></th>\n",
        "      <th></th>\n",
        "      <th></th>\n",
        "    </tr>\n",
        "  </thead>\n",
        "  <tbody>\n",
        "    <tr>\n",
        "      <th>chr1:g.878314G&gt;C</th>\n",
        "      <td> chr1</td>\n",
        "      <td>  878314</td>\n",
        "      <td> G</td>\n",
        "      <td> C</td>\n",
        "      <td> 0</td>\n",
        "      <td> /</td>\n",
        "      <td> 0</td>\n",
        "      <td> 1</td>\n",
        "      <td> G</td>\n",
        "      <td> C</td>\n",
        "      <td>...</td>\n",
        "      <td> 0/1</td>\n",
        "      <td> 10</td>\n",
        "      <td> 60.29</td>\n",
        "      <td> -36.27</td>\n",
        "      <td> -3.01</td>\n",
        "      <td>  -9.04</td>\n",
        "      <td>  chr1:g.878314G&gt;C</td>\n",
        "      <td> 0.000000</td>\n",
        "      <td>-0.649726</td>\n",
        "      <td> ENSG00000187634</td>\n",
        "    </tr>\n",
        "    <tr>\n",
        "      <th>chr1:g.915227A&gt;G</th>\n",
        "      <td> chr1</td>\n",
        "      <td>  915227</td>\n",
        "      <td> A</td>\n",
        "      <td> G</td>\n",
        "      <td> 0</td>\n",
        "      <td> /</td>\n",
        "      <td> 1</td>\n",
        "      <td> 1</td>\n",
        "      <td> G</td>\n",
        "      <td> G</td>\n",
        "      <td>...</td>\n",
        "      <td> 1/1</td>\n",
        "      <td> 10</td>\n",
        "      <td> 30.09</td>\n",
        "      <td> -37.02</td>\n",
        "      <td> -3.01</td>\n",
        "      <td>  -0.00</td>\n",
        "      <td>  chr1:g.915227A&gt;G</td>\n",
        "      <td> 0.278723</td>\n",
        "      <td> 0.278723</td>\n",
        "      <td> ENSG00000187642</td>\n",
        "    </tr>\n",
        "    <tr>\n",
        "      <th>chr1:g.935222C&gt;A</th>\n",
        "      <td> chr1</td>\n",
        "      <td>  935222</td>\n",
        "      <td> C</td>\n",
        "      <td> A</td>\n",
        "      <td> 0</td>\n",
        "      <td> /</td>\n",
        "      <td> 1</td>\n",
        "      <td> 1</td>\n",
        "      <td> A</td>\n",
        "      <td> A</td>\n",
        "      <td>...</td>\n",
        "      <td> 1/1</td>\n",
        "      <td>  4</td>\n",
        "      <td> 12.04</td>\n",
        "      <td> -15.08</td>\n",
        "      <td> -1.21</td>\n",
        "      <td>  -0.00</td>\n",
        "      <td>  chr1:g.935222C&gt;A</td>\n",
        "      <td>-0.524901</td>\n",
        "      <td>-0.524901</td>\n",
        "      <td> ENSG00000188290</td>\n",
        "    </tr>\n",
        "    <tr>\n",
        "      <th>chr1:g.982994T&gt;C</th>\n",
        "      <td> chr1</td>\n",
        "      <td>  982994</td>\n",
        "      <td> T</td>\n",
        "      <td> C</td>\n",
        "      <td> 0</td>\n",
        "      <td> /</td>\n",
        "      <td> 1</td>\n",
        "      <td> 1</td>\n",
        "      <td> C</td>\n",
        "      <td> C</td>\n",
        "      <td>...</td>\n",
        "      <td> 1/1</td>\n",
        "      <td> 23</td>\n",
        "      <td> 69.21</td>\n",
        "      <td> -89.53</td>\n",
        "      <td> -6.93</td>\n",
        "      <td>  -0.01</td>\n",
        "      <td>  chr1:g.982994T&gt;C</td>\n",
        "      <td> 2.221987</td>\n",
        "      <td> 2.221987</td>\n",
        "      <td> ENSG00000188157</td>\n",
        "    </tr>\n",
        "    <tr>\n",
        "      <th>chr1:g.1223385G&gt;C</th>\n",
        "      <td> chr1</td>\n",
        "      <td> 1223385</td>\n",
        "      <td> G</td>\n",
        "      <td> C</td>\n",
        "      <td> 0</td>\n",
        "      <td> /</td>\n",
        "      <td> 0</td>\n",
        "      <td> 1</td>\n",
        "      <td> G</td>\n",
        "      <td> C</td>\n",
        "      <td>...</td>\n",
        "      <td> 0/1</td>\n",
        "      <td> 10</td>\n",
        "      <td>    99</td>\n",
        "      <td> -14.88</td>\n",
        "      <td> -3.01</td>\n",
        "      <td> -30.83</td>\n",
        "      <td> chr1:g.1223385G&gt;C</td>\n",
        "      <td> 0.000000</td>\n",
        "      <td> 0.249466</td>\n",
        "      <td> ENSG00000162572</td>\n",
        "    </tr>\n",
        "  </tbody>\n",
        "</table>\n",
        "<p>5 rows \u00d7 23 columns</p>\n",
        "</div>"
       ],
       "metadata": {},
       "output_type": "pyout",
       "prompt_number": 129,
       "text": [
        "                  CHROM      POS REF ALT  multiallele phase  GT1  GT2 a1 a2  \\\n",
        "hgvs_id                                                                       \n",
        "chr1:g.878314G>C   chr1   878314   G   C            0     /    0    1  G  C   \n",
        "chr1:g.915227A>G   chr1   915227   A   G            0     /    1    1  G  G   \n",
        "chr1:g.935222C>A   chr1   935222   C   A            0     /    1    1  A  A   \n",
        "chr1:g.982994T>C   chr1   982994   T   C            0     /    1    1  C  C   \n",
        "chr1:g.1223385G>C  chr1  1223385   G   C            0     /    0    1  G  C   \n",
        "\n",
        "                           ...            GT  DP     GQ    GL_0   GL_1  \\\n",
        "hgvs_id                    ...                                           \n",
        "chr1:g.878314G>C           ...           0/1  10  60.29  -36.27  -3.01   \n",
        "chr1:g.915227A>G           ...           1/1  10  30.09  -37.02  -3.01   \n",
        "chr1:g.935222C>A           ...           1/1   4  12.04  -15.08  -1.21   \n",
        "chr1:g.982994T>C           ...           1/1  23  69.21  -89.53  -6.93   \n",
        "chr1:g.1223385G>C          ...           0/1  10     99  -14.88  -3.01   \n",
        "\n",
        "                     GL_2            hgvs_id   hgvs_a1   hgvs_a2  \\\n",
        "hgvs_id                                                            \n",
        "chr1:g.878314G>C    -9.04   chr1:g.878314G>C  0.000000 -0.649726   \n",
        "chr1:g.915227A>G    -0.00   chr1:g.915227A>G  0.278723  0.278723   \n",
        "chr1:g.935222C>A    -0.00   chr1:g.935222C>A -0.524901 -0.524901   \n",
        "chr1:g.982994T>C    -0.01   chr1:g.982994T>C  2.221987  2.221987   \n",
        "chr1:g.1223385G>C  -30.83  chr1:g.1223385G>C  0.000000  0.249466   \n",
        "\n",
        "                  dbnsfp.ensembl.geneid  \n",
        "hgvs_id                                  \n",
        "chr1:g.878314G>C        ENSG00000187634  \n",
        "chr1:g.915227A>G        ENSG00000187642  \n",
        "chr1:g.935222C>A        ENSG00000188290  \n",
        "chr1:g.982994T>C        ENSG00000188157  \n",
        "chr1:g.1223385G>C       ENSG00000162572  \n",
        "\n",
        "[5 rows x 23 columns]"
       ]
      }
     ],
     "prompt_number": 129
    },
    {
     "cell_type": "code",
     "collapsed": false,
     "input": [
      "snyderome['dbnsfp.ensembl.geneid'].value_counts().head()"
     ],
     "language": "python",
     "metadata": {},
     "outputs": [
      {
       "metadata": {},
       "output_type": "pyout",
       "prompt_number": 132,
       "text": [
        "ENSG00000145113    50\n",
        "ENSG00000185567    48\n",
        "ENSG00000227124    42\n",
        "ENSG00000184956    38\n",
        "ENSG00000157423    38\n",
        "dtype: int64"
       ]
      }
     ],
     "prompt_number": 132
    },
    {
     "cell_type": "code",
     "collapsed": false,
     "input": [
      "snyderome = snyderome[snyderome['dbnsfp.ensembl.geneid'].map(lambda x: False if type(x) == list else True)]"
     ],
     "language": "python",
     "metadata": {},
     "outputs": [],
     "prompt_number": 145
    },
    {
     "cell_type": "code",
     "collapsed": false,
     "input": [
      "snyderome_gene_groups = snyderome.groupby(by=['dbnsfp.ensembl.geneid'])\n"
     ],
     "language": "python",
     "metadata": {},
     "outputs": [],
     "prompt_number": 148
    },
    {
     "cell_type": "code",
     "collapsed": false,
     "input": [
      "snyderome['cadd_score_sum'] = snyderome['hgvs_a1'] + snyderome['hgvs_a2']"
     ],
     "language": "python",
     "metadata": {},
     "outputs": [
      {
       "output_type": "stream",
       "stream": "stderr",
       "text": [
        "-c:1: SettingWithCopyWarning: \n",
        "A value is trying to be set on a copy of a slice from a DataFrame.\n",
        "Try using .loc[row_indexer,col_indexer] = value instead\n",
        "\n",
        "See the the caveats in the documentation: http://pandas.pydata.org/pandas-docs/stable/indexing.html#indexing-view-versus-copy\n"
       ]
      }
     ],
     "prompt_number": 150
    },
    {
     "cell_type": "code",
     "collapsed": false,
     "input": [
      "max_cadd = snyderome.groupby(by=['dbnsfp.ensembl.geneid'])['cadd_score_sum'].aggregate(np.max)\n",
      "cadd_genes = cadd_genes.join(max_cadd)\n",
      "\n"
     ],
     "language": "python",
     "metadata": {},
     "outputs": [],
     "prompt_number": 161
    },
    {
     "cell_type": "code",
     "collapsed": false,
     "input": [
      "cadd_genes.dropna(subset=['symbol'], inplace=True)"
     ],
     "language": "python",
     "metadata": {},
     "outputs": [],
     "prompt_number": 166
    },
    {
     "cell_type": "code",
     "collapsed": false,
     "input": [
      "cadd_genes[['symbol', 'cadd_score_sum']].to_csv('snyder_max_cadd.rnk', sep='\\t', header=False,index=False)"
     ],
     "language": "python",
     "metadata": {},
     "outputs": [],
     "prompt_number": 167
    },
    {
     "cell_type": "code",
     "collapsed": false,
     "input": [
      "cadd_genes[cadd_genes.symbol=='NUPR1']"
     ],
     "language": "python",
     "metadata": {},
     "outputs": [
      {
       "html": [
        "<div style=\"max-height:1000px;max-width:1500px;overflow:auto;\">\n",
        "<table border=\"1\" class=\"dataframe\">\n",
        "  <thead>\n",
        "    <tr style=\"text-align: right;\">\n",
        "      <th></th>\n",
        "      <th>_id</th>\n",
        "      <th>entrezgene</th>\n",
        "      <th>name</th>\n",
        "      <th>notfound</th>\n",
        "      <th>symbol</th>\n",
        "      <th>taxid</th>\n",
        "      <th>cadd_score_sum</th>\n",
        "    </tr>\n",
        "  </thead>\n",
        "  <tbody>\n",
        "    <tr>\n",
        "      <th>ENSG00000176046</th>\n",
        "      <td> 26471</td>\n",
        "      <td> 26471</td>\n",
        "      <td> nuclear protein, transcriptional regulator, 1</td>\n",
        "      <td> NaN</td>\n",
        "      <td> NUPR1</td>\n",
        "      <td> 9606</td>\n",
        "      <td> 3.932193</td>\n",
        "    </tr>\n",
        "  </tbody>\n",
        "</table>\n",
        "</div>"
       ],
       "metadata": {},
       "output_type": "pyout",
       "prompt_number": 168,
       "text": [
        "                   _id  entrezgene  \\\n",
        "ENSG00000176046  26471       26471   \n",
        "\n",
        "                                                          name notfound  \\\n",
        "ENSG00000176046  nuclear protein, transcriptional regulator, 1      NaN   \n",
        "\n",
        "                symbol  taxid  cadd_score_sum  \n",
        "ENSG00000176046  NUPR1   9606        3.932193  "
       ]
      }
     ],
     "prompt_number": 168
    },
    {
     "cell_type": "heading",
     "level": 1,
     "metadata": {},
     "source": [
      "Gene List - CDS START/END"
     ]
    },
    {
     "cell_type": "code",
     "collapsed": false,
     "input": [
      "mg = mygene.MyGeneInfo()"
     ],
     "language": "python",
     "metadata": {},
     "outputs": [],
     "prompt_number": 156
    },
    {
     "cell_type": "code",
     "collapsed": false,
     "input": [
      "cadd_genes = mg.querymany(list(max_cadd.index), as_dataframe=True)"
     ],
     "language": "python",
     "metadata": {},
     "outputs": [
      {
       "output_type": "stream",
       "stream": "stdout",
       "text": [
        "querying 1-1000...done."
       ]
      },
      {
       "output_type": "stream",
       "stream": "stdout",
       "text": [
        "\n",
        "querying 1001-2000..."
       ]
      },
      {
       "output_type": "stream",
       "stream": "stdout",
       "text": [
        "done."
       ]
      },
      {
       "output_type": "stream",
       "stream": "stdout",
       "text": [
        "\n",
        "querying 2001-3000..."
       ]
      },
      {
       "output_type": "stream",
       "stream": "stdout",
       "text": [
        "done."
       ]
      },
      {
       "output_type": "stream",
       "stream": "stdout",
       "text": [
        "\n",
        "querying 3001-3467..."
       ]
      },
      {
       "output_type": "stream",
       "stream": "stdout",
       "text": [
        "done."
       ]
      },
      {
       "output_type": "stream",
       "stream": "stdout",
       "text": [
        "\n",
        "Finished.\n",
        "183 input query terms found dup hits:\n",
        "\t[(u'ENSG00000198156', 3), (u'ENSG00000079263', 2), (u'ENSG00000215440', 2), (u'ENSG00000136819', 2),\n",
        "36 input query terms found no hit:\n",
        "\t[u'ENSG00000017373', u'ENSG00000034063', u'ENSG00000090920', u'ENSG00000107623', u'ENSG00000122497',\n",
        "Pass \"returnall=True\" to return complete lists of duplicate or missing query terms.\n"
       ]
      }
     ],
     "prompt_number": 159
    },
    {
     "cell_type": "code",
     "collapsed": false,
     "input": [
      "cadd_genes"
     ],
     "language": "python",
     "metadata": {},
     "outputs": [
      {
       "html": [
        "<div style=\"max-height:1000px;max-width:1500px;overflow:auto;\">\n",
        "<table border=\"1\" class=\"dataframe\">\n",
        "  <thead>\n",
        "    <tr style=\"text-align: right;\">\n",
        "      <th></th>\n",
        "      <th>_id</th>\n",
        "      <th>entrezgene</th>\n",
        "      <th>name</th>\n",
        "      <th>notfound</th>\n",
        "      <th>symbol</th>\n",
        "      <th>taxid</th>\n",
        "    </tr>\n",
        "    <tr>\n",
        "      <th>query</th>\n",
        "      <th></th>\n",
        "      <th></th>\n",
        "      <th></th>\n",
        "      <th></th>\n",
        "      <th></th>\n",
        "      <th></th>\n",
        "    </tr>\n",
        "  </thead>\n",
        "  <tbody>\n",
        "    <tr>\n",
        "      <th>ENSG00000000971</th>\n",
        "      <td>      3075</td>\n",
        "      <td>      3075</td>\n",
        "      <td>                               complement factor H</td>\n",
        "      <td>  NaN</td>\n",
        "      <td>          CFH</td>\n",
        "      <td> 9606</td>\n",
        "    </tr>\n",
        "    <tr>\n",
        "      <th>ENSG00000001461</th>\n",
        "      <td>     57185</td>\n",
        "      <td>     57185</td>\n",
        "      <td>                     NIPA-like domain containing 3</td>\n",
        "      <td>  NaN</td>\n",
        "      <td>       NIPAL3</td>\n",
        "      <td> 9606</td>\n",
        "    </tr>\n",
        "    <tr>\n",
        "      <th>ENSG00000001617</th>\n",
        "      <td>      6405</td>\n",
        "      <td>      6405</td>\n",
        "      <td> sema domain, immunoglobulin domain (Ig), short...</td>\n",
        "      <td>  NaN</td>\n",
        "      <td>       SEMA3F</td>\n",
        "      <td> 9606</td>\n",
        "    </tr>\n",
        "    <tr>\n",
        "      <th>ENSG00000001629</th>\n",
        "      <td>     54467</td>\n",
        "      <td>     54467</td>\n",
        "      <td>        ankyrin repeat and IBR domain containing 1</td>\n",
        "      <td>  NaN</td>\n",
        "      <td>       ANKIB1</td>\n",
        "      <td> 9606</td>\n",
        "    </tr>\n",
        "    <tr>\n",
        "      <th>ENSG00000002726</th>\n",
        "      <td>        26</td>\n",
        "      <td>        26</td>\n",
        "      <td>                amine oxidase, copper containing 1</td>\n",
        "      <td>  NaN</td>\n",
        "      <td>         AOC1</td>\n",
        "      <td> 9606</td>\n",
        "    </tr>\n",
        "    <tr>\n",
        "      <th>ENSG00000002746</th>\n",
        "      <td> 102724911</td>\n",
        "      <td> 102724911</td>\n",
        "      <td>                      uncharacterized LOC102724911</td>\n",
        "      <td>  NaN</td>\n",
        "      <td> LOC102724911</td>\n",
        "      <td> 9606</td>\n",
        "    </tr>\n",
        "    <tr>\n",
        "      <th>ENSG00000002746</th>\n",
        "      <td>     23072</td>\n",
        "      <td>     23072</td>\n",
        "      <td> HECT, C2 and WW domain containing E3 ubiquitin...</td>\n",
        "      <td>  NaN</td>\n",
        "      <td>        HECW1</td>\n",
        "      <td> 9606</td>\n",
        "    </tr>\n",
        "    <tr>\n",
        "      <th>ENSG00000003147</th>\n",
        "      <td>      3382</td>\n",
        "      <td>      3382</td>\n",
        "      <td>                   islet cell autoantigen 1, 69kDa</td>\n",
        "      <td>  NaN</td>\n",
        "      <td>         ICA1</td>\n",
        "      <td> 9606</td>\n",
        "    </tr>\n",
        "    <tr>\n",
        "      <th>ENSG00000003987</th>\n",
        "      <td>      9108</td>\n",
        "      <td>      9108</td>\n",
        "      <td>                    myotubularin related protein 7</td>\n",
        "      <td>  NaN</td>\n",
        "      <td>        MTMR7</td>\n",
        "      <td> 9606</td>\n",
        "    </tr>\n",
        "    <tr>\n",
        "      <th>ENSG00000004139</th>\n",
        "      <td>     23098</td>\n",
        "      <td>     23098</td>\n",
        "      <td>          sterile alpha and TIR motif containing 1</td>\n",
        "      <td>  NaN</td>\n",
        "      <td>        SARM1</td>\n",
        "      <td> 9606</td>\n",
        "    </tr>\n",
        "    <tr>\n",
        "      <th>ENSG00000004399</th>\n",
        "      <td>     23129</td>\n",
        "      <td>     23129</td>\n",
        "      <td>                                         plexin D1</td>\n",
        "      <td>  NaN</td>\n",
        "      <td>       PLXND1</td>\n",
        "      <td> 9606</td>\n",
        "    </tr>\n",
        "    <tr>\n",
        "      <th>ENSG00000004455</th>\n",
        "      <td>       204</td>\n",
        "      <td>       204</td>\n",
        "      <td>                                adenylate kinase 2</td>\n",
        "      <td>  NaN</td>\n",
        "      <td>          AK2</td>\n",
        "      <td> 9606</td>\n",
        "    </tr>\n",
        "    <tr>\n",
        "      <th>ENSG00000004766</th>\n",
        "      <td>     55610</td>\n",
        "      <td>     55610</td>\n",
        "      <td>                 coiled-coil domain containing 132</td>\n",
        "      <td>  NaN</td>\n",
        "      <td>      CCDC132</td>\n",
        "      <td> 9606</td>\n",
        "    </tr>\n",
        "    <tr>\n",
        "      <th>ENSG00000004846</th>\n",
        "      <td>    340273</td>\n",
        "      <td>    340273</td>\n",
        "      <td> ATP-binding cassette, sub-family B (MDR/TAP), ...</td>\n",
        "      <td>  NaN</td>\n",
        "      <td>        ABCB5</td>\n",
        "      <td> 9606</td>\n",
        "    </tr>\n",
        "    <tr>\n",
        "      <th>ENSG00000004897</th>\n",
        "      <td>       996</td>\n",
        "      <td>       996</td>\n",
        "      <td>                            cell division cycle 27</td>\n",
        "      <td>  NaN</td>\n",
        "      <td>        CDC27</td>\n",
        "      <td> 9606</td>\n",
        "    </tr>\n",
        "    <tr>\n",
        "      <th>ENSG00000005022</th>\n",
        "      <td>       292</td>\n",
        "      <td>       292</td>\n",
        "      <td> solute carrier family 25 (mitochondrial carrie...</td>\n",
        "      <td>  NaN</td>\n",
        "      <td>      SLC25A5</td>\n",
        "      <td> 9606</td>\n",
        "    </tr>\n",
        "    <tr>\n",
        "      <th>ENSG00000005156</th>\n",
        "      <td>      3980</td>\n",
        "      <td>      3980</td>\n",
        "      <td>                    ligase III, DNA, ATP-dependent</td>\n",
        "      <td>  NaN</td>\n",
        "      <td>         LIG3</td>\n",
        "      <td> 9606</td>\n",
        "    </tr>\n",
        "    <tr>\n",
        "      <th>ENSG00000005187</th>\n",
        "      <td>      6296</td>\n",
        "      <td>      6296</td>\n",
        "      <td>  acyl-CoA synthetase medium-chain family member 3</td>\n",
        "      <td>  NaN</td>\n",
        "      <td>        ACSM3</td>\n",
        "      <td> 9606</td>\n",
        "    </tr>\n",
        "    <tr>\n",
        "      <th>ENSG00000005238</th>\n",
        "      <td>     80256</td>\n",
        "      <td>     80256</td>\n",
        "      <td>     family with sequence similarity 214, member B</td>\n",
        "      <td>  NaN</td>\n",
        "      <td>      FAM214B</td>\n",
        "      <td> 9606</td>\n",
        "    </tr>\n",
        "    <tr>\n",
        "      <th>ENSG00000005379</th>\n",
        "      <td>      9256</td>\n",
        "      <td>      9256</td>\n",
        "      <td> benzodiazepine receptor (peripheral) associate...</td>\n",
        "      <td>  NaN</td>\n",
        "      <td>       BZRAP1</td>\n",
        "      <td> 9606</td>\n",
        "    </tr>\n",
        "    <tr>\n",
        "      <th>ENSG00000005421</th>\n",
        "      <td>      5444</td>\n",
        "      <td>      5444</td>\n",
        "      <td>                                     paraoxonase 1</td>\n",
        "      <td>  NaN</td>\n",
        "      <td>         PON1</td>\n",
        "      <td> 9606</td>\n",
        "    </tr>\n",
        "    <tr>\n",
        "      <th>ENSG00000005436</th>\n",
        "      <td>      6936</td>\n",
        "      <td>      6936</td>\n",
        "      <td>             GC-rich sequence DNA-binding factor 2</td>\n",
        "      <td>  NaN</td>\n",
        "      <td>        GCFC2</td>\n",
        "      <td> 9606</td>\n",
        "    </tr>\n",
        "    <tr>\n",
        "      <th>ENSG00000005483</th>\n",
        "      <td>     55904</td>\n",
        "      <td>     55904</td>\n",
        "      <td>          lysine (K)-specific methyltransferase 2E</td>\n",
        "      <td>  NaN</td>\n",
        "      <td>        KMT2E</td>\n",
        "      <td> 9606</td>\n",
        "    </tr>\n",
        "    <tr>\n",
        "      <th>ENSG00000005810</th>\n",
        "      <td>     23077</td>\n",
        "      <td>     23077</td>\n",
        "      <td> MYC binding protein 2, E3 ubiquitin protein li...</td>\n",
        "      <td>  NaN</td>\n",
        "      <td>       MYCBP2</td>\n",
        "      <td> 9606</td>\n",
        "    </tr>\n",
        "    <tr>\n",
        "      <th>ENSG00000005844</th>\n",
        "      <td>      3683</td>\n",
        "      <td>      3683</td>\n",
        "      <td> integrin, alpha L (antigen CD11A (p180), lymph...</td>\n",
        "      <td>  NaN</td>\n",
        "      <td>        ITGAL</td>\n",
        "      <td> 9606</td>\n",
        "    </tr>\n",
        "    <tr>\n",
        "      <th>ENSG00000006025</th>\n",
        "      <td>    114881</td>\n",
        "      <td>    114881</td>\n",
        "      <td>                  oxysterol binding protein-like 7</td>\n",
        "      <td>  NaN</td>\n",
        "      <td>       OSBPL7</td>\n",
        "      <td> 9606</td>\n",
        "    </tr>\n",
        "    <tr>\n",
        "      <th>ENSG00000006118</th>\n",
        "      <td>     54972</td>\n",
        "      <td>     54972</td>\n",
        "      <td>                        transmembrane protein 132A</td>\n",
        "      <td>  NaN</td>\n",
        "      <td>     TMEM132A</td>\n",
        "      <td> 9606</td>\n",
        "    </tr>\n",
        "    <tr>\n",
        "      <th>ENSG00000006194</th>\n",
        "      <td>    283876</td>\n",
        "      <td>    283876</td>\n",
        "      <td>        long intergenic non-protein coding RNA 921</td>\n",
        "      <td>  NaN</td>\n",
        "      <td>    LINC00921</td>\n",
        "      <td> 9606</td>\n",
        "    </tr>\n",
        "    <tr>\n",
        "      <th>ENSG00000006194</th>\n",
        "      <td>     10127</td>\n",
        "      <td>     10127</td>\n",
        "      <td>                           zinc finger protein 263</td>\n",
        "      <td>  NaN</td>\n",
        "      <td>       ZNF263</td>\n",
        "      <td> 9606</td>\n",
        "    </tr>\n",
        "    <tr>\n",
        "      <th>ENSG00000006282</th>\n",
        "      <td>     64847</td>\n",
        "      <td>     64847</td>\n",
        "      <td>                     spermatogenesis associated 20</td>\n",
        "      <td>  NaN</td>\n",
        "      <td>      SPATA20</td>\n",
        "      <td> 9606</td>\n",
        "    </tr>\n",
        "    <tr>\n",
        "      <th>...</th>\n",
        "      <td>...</td>\n",
        "      <td>...</td>\n",
        "      <td>...</td>\n",
        "      <td>...</td>\n",
        "      <td>...</td>\n",
        "      <td>...</td>\n",
        "    </tr>\n",
        "    <tr>\n",
        "      <th>ENSG00000253831</th>\n",
        "      <td>    440695</td>\n",
        "      <td>    440695</td>\n",
        "      <td>                                ets variant 3-like</td>\n",
        "      <td>  NaN</td>\n",
        "      <td>        ETV3L</td>\n",
        "      <td> 9606</td>\n",
        "    </tr>\n",
        "    <tr>\n",
        "      <th>ENSG00000254402</th>\n",
        "      <td>    441381</td>\n",
        "      <td>    441381</td>\n",
        "      <td>                 leucine rich repeat containing 24</td>\n",
        "      <td>  NaN</td>\n",
        "      <td>       LRRC24</td>\n",
        "      <td> 9606</td>\n",
        "    </tr>\n",
        "    <tr>\n",
        "      <th>ENSG00000254656</th>\n",
        "      <td>    388015</td>\n",
        "      <td>    388015</td>\n",
        "      <td>                            retrotransposon-like 1</td>\n",
        "      <td>  NaN</td>\n",
        "      <td>         RTL1</td>\n",
        "      <td> 9606</td>\n",
        "    </tr>\n",
        "    <tr>\n",
        "      <th>ENSG00000254685</th>\n",
        "      <td>      8790</td>\n",
        "      <td>      8790</td>\n",
        "      <td>            fucose-1-phosphate guanylyltransferase</td>\n",
        "      <td>  NaN</td>\n",
        "      <td>         FPGT</td>\n",
        "      <td> 9606</td>\n",
        "    </tr>\n",
        "    <tr>\n",
        "      <th>ENSG00000254737</th>\n",
        "      <td>    390264</td>\n",
        "      <td>    390264</td>\n",
        "      <td> olfactory receptor, family 10, subfamily G, me...</td>\n",
        "      <td>  NaN</td>\n",
        "      <td>       OR10G4</td>\n",
        "      <td> 9606</td>\n",
        "    </tr>\n",
        "    <tr>\n",
        "      <th>ENSG00000254858</th>\n",
        "      <td>     84769</td>\n",
        "      <td>     84769</td>\n",
        "      <td>       MPV17 mitochondrial membrane protein-like 2</td>\n",
        "      <td>  NaN</td>\n",
        "      <td>      MPV17L2</td>\n",
        "      <td> 9606</td>\n",
        "    </tr>\n",
        "    <tr>\n",
        "      <th>ENSG00000255150</th>\n",
        "      <td>    493861</td>\n",
        "      <td>    493861</td>\n",
        "      <td>  EP300 interacting inhibitor of differentiation 3</td>\n",
        "      <td>  NaN</td>\n",
        "      <td>         EID3</td>\n",
        "      <td> 9606</td>\n",
        "    </tr>\n",
        "    <tr>\n",
        "      <th>ENSG00000255346</th>\n",
        "      <td>     79400</td>\n",
        "      <td>     79400</td>\n",
        "      <td>   NADPH oxidase, EF-hand calcium binding domain 5</td>\n",
        "      <td>  NaN</td>\n",
        "      <td>         NOX5</td>\n",
        "      <td> 9606</td>\n",
        "    </tr>\n",
        "    <tr>\n",
        "      <th>ENSG00000255374</th>\n",
        "      <td>    259289</td>\n",
        "      <td>    259289</td>\n",
        "      <td>                 taste receptor, type 2, member 43</td>\n",
        "      <td>  NaN</td>\n",
        "      <td>      TAS2R43</td>\n",
        "      <td> 9606</td>\n",
        "    </tr>\n",
        "    <tr>\n",
        "      <th>ENSG00000255398</th>\n",
        "      <td>      8843</td>\n",
        "      <td>      8843</td>\n",
        "      <td>                 hydroxycarboxylic acid receptor 3</td>\n",
        "      <td>  NaN</td>\n",
        "      <td>        HCAR3</td>\n",
        "      <td> 9606</td>\n",
        "    </tr>\n",
        "    <tr>\n",
        "      <th>ENSG00000255529</th>\n",
        "      <td>     81488</td>\n",
        "      <td>     81488</td>\n",
        "      <td>  polymerase (RNA) II (DNA directed) polypeptide M</td>\n",
        "      <td>  NaN</td>\n",
        "      <td>       POLR2M</td>\n",
        "      <td> 9606</td>\n",
        "    </tr>\n",
        "    <tr>\n",
        "      <th>ENSG00000255529</th>\n",
        "      <td>    145781</td>\n",
        "      <td>    145781</td>\n",
        "      <td>                           GRINL1A complex locus 1</td>\n",
        "      <td>  NaN</td>\n",
        "      <td>        GCOM1</td>\n",
        "      <td> 9606</td>\n",
        "    </tr>\n",
        "    <tr>\n",
        "      <th>ENSG00000255837</th>\n",
        "      <td>    259295</td>\n",
        "      <td>    259295</td>\n",
        "      <td>                 taste receptor, type 2, member 20</td>\n",
        "      <td>  NaN</td>\n",
        "      <td>      TAS2R20</td>\n",
        "      <td> 9606</td>\n",
        "    </tr>\n",
        "    <tr>\n",
        "      <th>ENSG00000255974</th>\n",
        "      <td>      1548</td>\n",
        "      <td>      1548</td>\n",
        "      <td> cytochrome P450, family 2, subfamily A, polype...</td>\n",
        "      <td>  NaN</td>\n",
        "      <td>       CYP2A6</td>\n",
        "      <td> 9606</td>\n",
        "    </tr>\n",
        "    <tr>\n",
        "      <th>ENSG00000256053</th>\n",
        "      <td>     84334</td>\n",
        "      <td>     84334</td>\n",
        "      <td>                      apoptogenic 1, mitochondrial</td>\n",
        "      <td>  NaN</td>\n",
        "      <td>       APOPT1</td>\n",
        "      <td> 9606</td>\n",
        "    </tr>\n",
        "    <tr>\n",
        "      <th>ENSG00000256061</th>\n",
        "      <td>    161582</td>\n",
        "      <td>    161582</td>\n",
        "      <td>             dyslexia susceptibility 1 candidate 1</td>\n",
        "      <td>  NaN</td>\n",
        "      <td>       DYX1C1</td>\n",
        "      <td> 9606</td>\n",
        "    </tr>\n",
        "    <tr>\n",
        "      <th>ENSG00000256223</th>\n",
        "      <td>      7556</td>\n",
        "      <td>      7556</td>\n",
        "      <td>                            zinc finger protein 10</td>\n",
        "      <td>  NaN</td>\n",
        "      <td>        ZNF10</td>\n",
        "      <td> 9606</td>\n",
        "    </tr>\n",
        "    <tr>\n",
        "      <th>ENSG00000256436</th>\n",
        "      <td>    259290</td>\n",
        "      <td>    259290</td>\n",
        "      <td>                 taste receptor, type 2, member 31</td>\n",
        "      <td>  NaN</td>\n",
        "      <td>      TAS2R31</td>\n",
        "      <td> 9606</td>\n",
        "    </tr>\n",
        "    <tr>\n",
        "      <th>ENSG00000256453</th>\n",
        "      <td>    373863</td>\n",
        "      <td>    373863</td>\n",
        "      <td>      DND microRNA-mediated repression inhibitor 1</td>\n",
        "      <td>  NaN</td>\n",
        "      <td>         DND1</td>\n",
        "      <td> 9606</td>\n",
        "    </tr>\n",
        "    <tr>\n",
        "      <th>ENSG00000257017</th>\n",
        "      <td>      3240</td>\n",
        "      <td>      3240</td>\n",
        "      <td>                                       haptoglobin</td>\n",
        "      <td>  NaN</td>\n",
        "      <td>           HP</td>\n",
        "      <td> 9606</td>\n",
        "    </tr>\n",
        "    <tr>\n",
        "      <th>ENSG00000257017</th>\n",
        "      <td> 102725471</td>\n",
        "      <td> 102725471</td>\n",
        "      <td>                      uncharacterized LOC102725471</td>\n",
        "      <td>  NaN</td>\n",
        "      <td> LOC102725471</td>\n",
        "      <td> 9606</td>\n",
        "    </tr>\n",
        "    <tr>\n",
        "      <th>ENSG00000257017</th>\n",
        "      <td>      3250</td>\n",
        "      <td>      3250</td>\n",
        "      <td>                       haptoglobin-related protein</td>\n",
        "      <td>  NaN</td>\n",
        "      <td>          HPR</td>\n",
        "      <td> 9606</td>\n",
        "    </tr>\n",
        "    <tr>\n",
        "      <th>ENSG00000257076</th>\n",
        "      <td>       NaN</td>\n",
        "      <td>       NaN</td>\n",
        "      <td>                                               NaN</td>\n",
        "      <td> True</td>\n",
        "      <td>          NaN</td>\n",
        "      <td>  NaN</td>\n",
        "    </tr>\n",
        "    <tr>\n",
        "      <th>ENSG00000257115</th>\n",
        "      <td>    440153</td>\n",
        "      <td>    440153</td>\n",
        "      <td> olfactory receptor, family 11, subfamily H, me...</td>\n",
        "      <td>  NaN</td>\n",
        "      <td>      OR11H12</td>\n",
        "      <td> 9606</td>\n",
        "    </tr>\n",
        "    <tr>\n",
        "      <th>ENSG00000257115</th>\n",
        "      <td>     79334</td>\n",
        "      <td>     79334</td>\n",
        "      <td> olfactory receptor, family 11, subfamily H, me...</td>\n",
        "      <td>  NaN</td>\n",
        "      <td>       OR11H2</td>\n",
        "      <td> 9606</td>\n",
        "    </tr>\n",
        "    <tr>\n",
        "      <th>ENSG00000257127</th>\n",
        "      <td>    574028</td>\n",
        "      <td>    574028</td>\n",
        "      <td>       chronic lymphocytic leukemia up-regulated 1</td>\n",
        "      <td>  NaN</td>\n",
        "      <td>        CLLU1</td>\n",
        "      <td> 9606</td>\n",
        "    </tr>\n",
        "    <tr>\n",
        "      <th>ENSG00000257127</th>\n",
        "      <td> 102724825</td>\n",
        "      <td> 102724825</td>\n",
        "      <td>                      uncharacterized LOC102724825</td>\n",
        "      <td>  NaN</td>\n",
        "      <td> LOC102724825</td>\n",
        "      <td> 9606</td>\n",
        "    </tr>\n",
        "    <tr>\n",
        "      <th>ENSG00000258366</th>\n",
        "      <td>     51750</td>\n",
        "      <td>     51750</td>\n",
        "      <td>       regulator of telomere elongation helicase 1</td>\n",
        "      <td>  NaN</td>\n",
        "      <td>        RTEL1</td>\n",
        "      <td> 9606</td>\n",
        "    </tr>\n",
        "    <tr>\n",
        "      <th>ENSG00000258429</th>\n",
        "      <td>     64146</td>\n",
        "      <td>     64146</td>\n",
        "      <td>               peptide deformylase (mitochondrial)</td>\n",
        "      <td>  NaN</td>\n",
        "      <td>          PDF</td>\n",
        "      <td> 9606</td>\n",
        "    </tr>\n",
        "    <tr>\n",
        "      <th>ENSG00000258484</th>\n",
        "      <td>    246777</td>\n",
        "      <td>    246777</td>\n",
        "      <td>                sperm equatorial segment protein 1</td>\n",
        "      <td>  NaN</td>\n",
        "      <td>       SPESP1</td>\n",
        "      <td> 9606</td>\n",
        "    </tr>\n",
        "  </tbody>\n",
        "</table>\n",
        "<p>3717 rows \u00d7 6 columns</p>\n",
        "</div>"
       ],
       "metadata": {},
       "output_type": "pyout",
       "prompt_number": 160,
       "text": [
        "                       _id  entrezgene  \\\n",
        "query                                    \n",
        "ENSG00000000971       3075        3075   \n",
        "ENSG00000001461      57185       57185   \n",
        "ENSG00000001617       6405        6405   \n",
        "ENSG00000001629      54467       54467   \n",
        "ENSG00000002726         26          26   \n",
        "ENSG00000002746  102724911   102724911   \n",
        "ENSG00000002746      23072       23072   \n",
        "ENSG00000003147       3382        3382   \n",
        "ENSG00000003987       9108        9108   \n",
        "ENSG00000004139      23098       23098   \n",
        "ENSG00000004399      23129       23129   \n",
        "ENSG00000004455        204         204   \n",
        "ENSG00000004766      55610       55610   \n",
        "ENSG00000004846     340273      340273   \n",
        "ENSG00000004897        996         996   \n",
        "ENSG00000005022        292         292   \n",
        "ENSG00000005156       3980        3980   \n",
        "ENSG00000005187       6296        6296   \n",
        "ENSG00000005238      80256       80256   \n",
        "ENSG00000005379       9256        9256   \n",
        "ENSG00000005421       5444        5444   \n",
        "ENSG00000005436       6936        6936   \n",
        "ENSG00000005483      55904       55904   \n",
        "ENSG00000005810      23077       23077   \n",
        "ENSG00000005844       3683        3683   \n",
        "ENSG00000006025     114881      114881   \n",
        "ENSG00000006118      54972       54972   \n",
        "ENSG00000006194     283876      283876   \n",
        "ENSG00000006194      10127       10127   \n",
        "ENSG00000006282      64847       64847   \n",
        "...                    ...         ...   \n",
        "ENSG00000253831     440695      440695   \n",
        "ENSG00000254402     441381      441381   \n",
        "ENSG00000254656     388015      388015   \n",
        "ENSG00000254685       8790        8790   \n",
        "ENSG00000254737     390264      390264   \n",
        "ENSG00000254858      84769       84769   \n",
        "ENSG00000255150     493861      493861   \n",
        "ENSG00000255346      79400       79400   \n",
        "ENSG00000255374     259289      259289   \n",
        "ENSG00000255398       8843        8843   \n",
        "ENSG00000255529      81488       81488   \n",
        "ENSG00000255529     145781      145781   \n",
        "ENSG00000255837     259295      259295   \n",
        "ENSG00000255974       1548        1548   \n",
        "ENSG00000256053      84334       84334   \n",
        "ENSG00000256061     161582      161582   \n",
        "ENSG00000256223       7556        7556   \n",
        "ENSG00000256436     259290      259290   \n",
        "ENSG00000256453     373863      373863   \n",
        "ENSG00000257017       3240        3240   \n",
        "ENSG00000257017  102725471   102725471   \n",
        "ENSG00000257017       3250        3250   \n",
        "ENSG00000257076        NaN         NaN   \n",
        "ENSG00000257115     440153      440153   \n",
        "ENSG00000257115      79334       79334   \n",
        "ENSG00000257127     574028      574028   \n",
        "ENSG00000257127  102724825   102724825   \n",
        "ENSG00000258366      51750       51750   \n",
        "ENSG00000258429      64146       64146   \n",
        "ENSG00000258484     246777      246777   \n",
        "\n",
        "                                                              name notfound  \\\n",
        "query                                                                         \n",
        "ENSG00000000971                                complement factor H      NaN   \n",
        "ENSG00000001461                      NIPA-like domain containing 3      NaN   \n",
        "ENSG00000001617  sema domain, immunoglobulin domain (Ig), short...      NaN   \n",
        "ENSG00000001629         ankyrin repeat and IBR domain containing 1      NaN   \n",
        "ENSG00000002726                 amine oxidase, copper containing 1      NaN   \n",
        "ENSG00000002746                       uncharacterized LOC102724911      NaN   \n",
        "ENSG00000002746  HECT, C2 and WW domain containing E3 ubiquitin...      NaN   \n",
        "ENSG00000003147                    islet cell autoantigen 1, 69kDa      NaN   \n",
        "ENSG00000003987                     myotubularin related protein 7      NaN   \n",
        "ENSG00000004139           sterile alpha and TIR motif containing 1      NaN   \n",
        "ENSG00000004399                                          plexin D1      NaN   \n",
        "ENSG00000004455                                 adenylate kinase 2      NaN   \n",
        "ENSG00000004766                  coiled-coil domain containing 132      NaN   \n",
        "ENSG00000004846  ATP-binding cassette, sub-family B (MDR/TAP), ...      NaN   \n",
        "ENSG00000004897                             cell division cycle 27      NaN   \n",
        "ENSG00000005022  solute carrier family 25 (mitochondrial carrie...      NaN   \n",
        "ENSG00000005156                     ligase III, DNA, ATP-dependent      NaN   \n",
        "ENSG00000005187   acyl-CoA synthetase medium-chain family member 3      NaN   \n",
        "ENSG00000005238      family with sequence similarity 214, member B      NaN   \n",
        "ENSG00000005379  benzodiazepine receptor (peripheral) associate...      NaN   \n",
        "ENSG00000005421                                      paraoxonase 1      NaN   \n",
        "ENSG00000005436              GC-rich sequence DNA-binding factor 2      NaN   \n",
        "ENSG00000005483           lysine (K)-specific methyltransferase 2E      NaN   \n",
        "ENSG00000005810  MYC binding protein 2, E3 ubiquitin protein li...      NaN   \n",
        "ENSG00000005844  integrin, alpha L (antigen CD11A (p180), lymph...      NaN   \n",
        "ENSG00000006025                   oxysterol binding protein-like 7      NaN   \n",
        "ENSG00000006118                         transmembrane protein 132A      NaN   \n",
        "ENSG00000006194         long intergenic non-protein coding RNA 921      NaN   \n",
        "ENSG00000006194                            zinc finger protein 263      NaN   \n",
        "ENSG00000006282                      spermatogenesis associated 20      NaN   \n",
        "...                                                            ...      ...   \n",
        "ENSG00000253831                                 ets variant 3-like      NaN   \n",
        "ENSG00000254402                  leucine rich repeat containing 24      NaN   \n",
        "ENSG00000254656                             retrotransposon-like 1      NaN   \n",
        "ENSG00000254685             fucose-1-phosphate guanylyltransferase      NaN   \n",
        "ENSG00000254737  olfactory receptor, family 10, subfamily G, me...      NaN   \n",
        "ENSG00000254858        MPV17 mitochondrial membrane protein-like 2      NaN   \n",
        "ENSG00000255150   EP300 interacting inhibitor of differentiation 3      NaN   \n",
        "ENSG00000255346    NADPH oxidase, EF-hand calcium binding domain 5      NaN   \n",
        "ENSG00000255374                  taste receptor, type 2, member 43      NaN   \n",
        "ENSG00000255398                  hydroxycarboxylic acid receptor 3      NaN   \n",
        "ENSG00000255529   polymerase (RNA) II (DNA directed) polypeptide M      NaN   \n",
        "ENSG00000255529                            GRINL1A complex locus 1      NaN   \n",
        "ENSG00000255837                  taste receptor, type 2, member 20      NaN   \n",
        "ENSG00000255974  cytochrome P450, family 2, subfamily A, polype...      NaN   \n",
        "ENSG00000256053                       apoptogenic 1, mitochondrial      NaN   \n",
        "ENSG00000256061              dyslexia susceptibility 1 candidate 1      NaN   \n",
        "ENSG00000256223                             zinc finger protein 10      NaN   \n",
        "ENSG00000256436                  taste receptor, type 2, member 31      NaN   \n",
        "ENSG00000256453       DND microRNA-mediated repression inhibitor 1      NaN   \n",
        "ENSG00000257017                                        haptoglobin      NaN   \n",
        "ENSG00000257017                       uncharacterized LOC102725471      NaN   \n",
        "ENSG00000257017                        haptoglobin-related protein      NaN   \n",
        "ENSG00000257076                                                NaN     True   \n",
        "ENSG00000257115  olfactory receptor, family 11, subfamily H, me...      NaN   \n",
        "ENSG00000257115  olfactory receptor, family 11, subfamily H, me...      NaN   \n",
        "ENSG00000257127        chronic lymphocytic leukemia up-regulated 1      NaN   \n",
        "ENSG00000257127                       uncharacterized LOC102724825      NaN   \n",
        "ENSG00000258366        regulator of telomere elongation helicase 1      NaN   \n",
        "ENSG00000258429                peptide deformylase (mitochondrial)      NaN   \n",
        "ENSG00000258484                 sperm equatorial segment protein 1      NaN   \n",
        "\n",
        "                       symbol  taxid  \n",
        "query                                 \n",
        "ENSG00000000971           CFH   9606  \n",
        "ENSG00000001461        NIPAL3   9606  \n",
        "ENSG00000001617        SEMA3F   9606  \n",
        "ENSG00000001629        ANKIB1   9606  \n",
        "ENSG00000002726          AOC1   9606  \n",
        "ENSG00000002746  LOC102724911   9606  \n",
        "ENSG00000002746         HECW1   9606  \n",
        "ENSG00000003147          ICA1   9606  \n",
        "ENSG00000003987         MTMR7   9606  \n",
        "ENSG00000004139         SARM1   9606  \n",
        "ENSG00000004399        PLXND1   9606  \n",
        "ENSG00000004455           AK2   9606  \n",
        "ENSG00000004766       CCDC132   9606  \n",
        "ENSG00000004846         ABCB5   9606  \n",
        "ENSG00000004897         CDC27   9606  \n",
        "ENSG00000005022       SLC25A5   9606  \n",
        "ENSG00000005156          LIG3   9606  \n",
        "ENSG00000005187         ACSM3   9606  \n",
        "ENSG00000005238       FAM214B   9606  \n",
        "ENSG00000005379        BZRAP1   9606  \n",
        "ENSG00000005421          PON1   9606  \n",
        "ENSG00000005436         GCFC2   9606  \n",
        "ENSG00000005483         KMT2E   9606  \n",
        "ENSG00000005810        MYCBP2   9606  \n",
        "ENSG00000005844         ITGAL   9606  \n",
        "ENSG00000006025        OSBPL7   9606  \n",
        "ENSG00000006118      TMEM132A   9606  \n",
        "ENSG00000006194     LINC00921   9606  \n",
        "ENSG00000006194        ZNF263   9606  \n",
        "ENSG00000006282       SPATA20   9606  \n",
        "...                       ...    ...  \n",
        "ENSG00000253831         ETV3L   9606  \n",
        "ENSG00000254402        LRRC24   9606  \n",
        "ENSG00000254656          RTL1   9606  \n",
        "ENSG00000254685          FPGT   9606  \n",
        "ENSG00000254737        OR10G4   9606  \n",
        "ENSG00000254858       MPV17L2   9606  \n",
        "ENSG00000255150          EID3   9606  \n",
        "ENSG00000255346          NOX5   9606  \n",
        "ENSG00000255374       TAS2R43   9606  \n",
        "ENSG00000255398         HCAR3   9606  \n",
        "ENSG00000255529        POLR2M   9606  \n",
        "ENSG00000255529         GCOM1   9606  \n",
        "ENSG00000255837       TAS2R20   9606  \n",
        "ENSG00000255974        CYP2A6   9606  \n",
        "ENSG00000256053        APOPT1   9606  \n",
        "ENSG00000256061        DYX1C1   9606  \n",
        "ENSG00000256223         ZNF10   9606  \n",
        "ENSG00000256436       TAS2R31   9606  \n",
        "ENSG00000256453          DND1   9606  \n",
        "ENSG00000257017            HP   9606  \n",
        "ENSG00000257017  LOC102725471   9606  \n",
        "ENSG00000257017           HPR   9606  \n",
        "ENSG00000257076           NaN    NaN  \n",
        "ENSG00000257115       OR11H12   9606  \n",
        "ENSG00000257115        OR11H2   9606  \n",
        "ENSG00000257127         CLLU1   9606  \n",
        "ENSG00000257127  LOC102724825   9606  \n",
        "ENSG00000258366         RTEL1   9606  \n",
        "ENSG00000258429           PDF   9606  \n",
        "ENSG00000258484        SPESP1   9606  \n",
        "\n",
        "[3717 rows x 6 columns]"
       ]
      }
     ],
     "prompt_number": 160
    },
    {
     "cell_type": "code",
     "collapsed": false,
     "input": [
      "#mg.getgenes([7273],'name,symbol,refseq.rna', as_dataframe=True)\n",
      "#mg.getgene(1017)"
     ],
     "language": "python",
     "metadata": {},
     "outputs": [],
     "prompt_number": 92
    },
    {
     "cell_type": "code",
     "collapsed": false,
     "input": [
      "#gene_ids = [mg.query(q='type_of_gene:protein-coding', fields='entrezgene', species='human', skip=i, size=i+1000, as_dataframe=True) for i in range(0,21000,1000)]     \n",
      "# gene_ids_df = pd.concat(gene_ids)\n",
      "# gene_ids_df.index = range(0,len(gene_ids_df))\n",
      "# gene_ids_df.drop_duplicates(inplace=True)\n",
      "gene_ids_df = pd.read_table('../gene_ids.txt',sep='\\t')\n",
      "#print len(gene_ids_df)"
     ],
     "language": "python",
     "metadata": {},
     "outputs": [],
     "prompt_number": 93
    },
    {
     "cell_type": "code",
     "collapsed": false,
     "input": [
      "gene_ids_df.head()"
     ],
     "language": "python",
     "metadata": {},
     "outputs": [
      {
       "html": [
        "<div style=\"max-height:1000px;max-width:1500px;overflow:auto;\">\n",
        "<table border=\"1\" class=\"dataframe\">\n",
        "  <thead>\n",
        "    <tr style=\"text-align: right;\">\n",
        "      <th></th>\n",
        "      <th>Unnamed: 0</th>\n",
        "      <th>_id</th>\n",
        "      <th>_score</th>\n",
        "      <th>entrezgene</th>\n",
        "    </tr>\n",
        "  </thead>\n",
        "  <tbody>\n",
        "    <tr>\n",
        "      <th>0</th>\n",
        "      <td> 0</td>\n",
        "      <td> 10491</td>\n",
        "      <td> 3.580785</td>\n",
        "      <td> 10491</td>\n",
        "    </tr>\n",
        "    <tr>\n",
        "      <th>1</th>\n",
        "      <td> 1</td>\n",
        "      <td> 10509</td>\n",
        "      <td> 3.580785</td>\n",
        "      <td> 10509</td>\n",
        "    </tr>\n",
        "    <tr>\n",
        "      <th>2</th>\n",
        "      <td> 2</td>\n",
        "      <td> 10516</td>\n",
        "      <td> 3.580785</td>\n",
        "      <td> 10516</td>\n",
        "    </tr>\n",
        "    <tr>\n",
        "      <th>3</th>\n",
        "      <td> 3</td>\n",
        "      <td> 10523</td>\n",
        "      <td> 3.580785</td>\n",
        "      <td> 10523</td>\n",
        "    </tr>\n",
        "    <tr>\n",
        "      <th>4</th>\n",
        "      <td> 4</td>\n",
        "      <td> 10535</td>\n",
        "      <td> 3.580785</td>\n",
        "      <td> 10535</td>\n",
        "    </tr>\n",
        "  </tbody>\n",
        "</table>\n",
        "</div>"
       ],
       "metadata": {},
       "output_type": "pyout",
       "prompt_number": 94,
       "text": [
        "   Unnamed: 0    _id    _score  entrezgene\n",
        "0           0  10491  3.580785       10491\n",
        "1           1  10509  3.580785       10509\n",
        "2           2  10516  3.580785       10516\n",
        "3           3  10523  3.580785       10523\n",
        "4           4  10535  3.580785       10535"
       ]
      }
     ],
     "prompt_number": 94
    },
    {
     "cell_type": "heading",
     "level": 1,
     "metadata": {},
     "source": [
      "Gene Specific Functional Impact Score Function"
     ]
    },
    {
     "cell_type": "heading",
     "level": 3,
     "metadata": {},
     "source": [
      "Get CDS exon range"
     ]
    },
    {
     "cell_type": "code",
     "collapsed": false,
     "input": [
      "\n",
      "def get_cds_coords(exons, cds_start, cds_end):\n",
      "    '''\n",
      "    This function returns coding exon ranges when given a \n",
      "    exon coordinate list  [[start1, end1], [start2, end2]],\n",
      "    the cds_start position and cds_end position \n",
      "    '''\n",
      "    \n",
      "    def start_change(exon_start_end, cds_start):\n",
      "        exon_start = int(exon_start_end[0])\n",
      "        exon_end = int(exon_start_end[1])\n",
      "        if cds_start > exon_end:  #discard 5' UTR exon\n",
      "            return 0\n",
      "        if cds_start >= exon_start and cds_start <= exon_end: #cds start within exon\n",
      "            return cds_start\n",
      "        return exon_start  #keep exon start\n",
      "    \n",
      "    \n",
      "    def end_change(exon_start_end, cds_end):\n",
      "        exon_start = int(exon_start_end[0])\n",
      "        exon_end = int(exon_start_end[1])\n",
      "        if cds_end <= exon_start: #discard 3' UTR exon\n",
      "            return 0\n",
      "        if cds_end >= exon_start and cds_end <= exon_end:  #cds end within exon\n",
      "            return cds_end\n",
      "        return exon_end  #keep exon end\n",
      "    \n",
      "    exon_coords = pd.DataFrame.from_records(exons)\n",
      "    exon_coords[0] = exon_coords.apply(start_change, args=[cds_start], axis=1)\n",
      "    exon_coords[1] = exon_coords.apply(end_change, args=[cds_end], axis=1)\n",
      "    exon_coords = exon_coords[(exon_coords[0]!=0) &(exon_coords[1]!=0)]\n",
      "    return exon_coords"
     ],
     "language": "python",
     "metadata": {},
     "outputs": [],
     "prompt_number": 114
    },
    {
     "cell_type": "code",
     "collapsed": false,
     "input": [
      "def get_cds_intervals(gene_data, one_based=True):\n",
      "    \n",
      "    '''\n",
      "    Note: the returned start coordinates are one-based, exclusive\n",
      "        This works with PyIntervalTree\n",
      "    example: get_gene_cds(10509)\n",
      "    \n",
      "    one_based = True for PyIntervalTree, start position is base\n",
      "    \n",
      "    one_based = False for BedTools, end position is base\n",
      "    '''\n",
      "    \n",
      "    \n",
      "    gene_chrom = ''\n",
      "    gene_coords_tracker = set()\n",
      "    \n",
      "    \n",
      "#     d_test = pd.DataFrame(gene_exons_df.ix[idx]['exons_hg19'])\n",
      "#     if 'cdsstart' in d_test.index: print 10\n",
      "    \n",
      "    \n",
      "    for tx in gene_data.keys():\n",
      "        \n",
      "       \n",
      "        if type(gene_data[tx]) == list:\n",
      "            gene_chrom = gene_data[tx][0]['chr']\n",
      "            if 'chr' not in gene_chrom:\n",
      "                gene_chrom = 'chr' + gene_chrom\n",
      "            gene_start = gene_data[tx][0]['cdsstart']\n",
      "            gene_end = gene_data[tx][0]['cdsend']\n",
      "            gene_exons = gene_data[tx][0]['exons']\n",
      "            \n",
      "        else:\n",
      "            gene_chrom = gene_data[tx]['chr']\n",
      "            if 'chr' not in gene_chrom:\n",
      "                gene_chrom = 'chr' + gene_chrom\n",
      "            gene_start = gene_data[tx]['cdsstart']\n",
      "            gene_end = gene_data[tx]['cdsend']\n",
      "            gene_exons = gene_data[tx]['exons']\n",
      "      \n",
      "    \n",
      "        \n",
      "        exon_coords = get_cds_coords(gene_exons, gene_start, gene_end)\n",
      "        \n",
      "        [gene_coords_tracker.add(tuple(exon_coords.ix[idx].values)) for idx in exon_coords.index]\n",
      "    \n",
      "    \n",
      "    if len(gene_coords_tracker) == 0:\n",
      "        return None\n",
      "    \n",
      "    cds_exon_df = pd.DataFrame.from_records(list(gene_coords_tracker))\n",
      "    cds_exon_df.columns = ['start', 'end']\n",
      "    cds_exon_df = cds_exon_df + 1\n",
      "    cds_exon_df['chr'] = gene_chrom\n",
      "    \n",
      "    if one_based == True:  #start position is base, PyIntervalTree\n",
      "        return cds_exon_df[['chr', 'start', 'end']]\n",
      "    \n",
      "    if one_based == False:  #end position is base, BedTools\n",
      "        cds_exon_df['start'] = cds_exon_df['start'] -1\n",
      "        cds_exon_df['end'] = cds_exon_df['end'] -1\n",
      "        return cds_exon_df[['chr', 'start', 'end']]\n",
      "    \n",
      "    "
     ],
     "language": "python",
     "metadata": {},
     "outputs": [],
     "prompt_number": 348
    },
    {
     "cell_type": "code",
     "collapsed": false,
     "input": [
      "#Create CDS BED\n",
      "cds_df = []\n",
      "for n,idx in enumerate(gene_exons_df.index):\n",
      "    if 'exons_hg19' not in gene_exons_df.ix[idx].index:\n",
      "        cds_df.append(get_cds_intervals(gene_exons_df.ix[idx].head(1)['exons_hg19'][0]))\n",
      "        continue\n",
      "    cds_df.append(get_cds_intervals(gene_exons_df.ix[idx]['exons_hg19']))\n",
      "    if n % 1000 == 0:\n",
      "        print n\n",
      "cds_df = pd.concat(cds_df)"
     ],
     "language": "python",
     "metadata": {},
     "outputs": [
      {
       "output_type": "stream",
       "stream": "stdout",
       "text": [
        "0\n",
        "1000"
       ]
      },
      {
       "output_type": "stream",
       "stream": "stdout",
       "text": [
        "\n",
        "2000"
       ]
      },
      {
       "output_type": "stream",
       "stream": "stdout",
       "text": [
        "\n",
        "3000"
       ]
      },
      {
       "output_type": "stream",
       "stream": "stdout",
       "text": [
        "\n",
        "4000"
       ]
      },
      {
       "output_type": "stream",
       "stream": "stdout",
       "text": [
        "\n",
        "6000"
       ]
      },
      {
       "output_type": "stream",
       "stream": "stdout",
       "text": [
        "\n",
        "7000"
       ]
      },
      {
       "output_type": "stream",
       "stream": "stdout",
       "text": [
        "\n",
        "8000"
       ]
      },
      {
       "output_type": "stream",
       "stream": "stdout",
       "text": [
        "\n",
        "9000"
       ]
      },
      {
       "output_type": "stream",
       "stream": "stdout",
       "text": [
        "\n",
        "10000"
       ]
      },
      {
       "output_type": "stream",
       "stream": "stdout",
       "text": [
        "\n",
        "11000"
       ]
      },
      {
       "output_type": "stream",
       "stream": "stdout",
       "text": [
        "\n",
        "12000"
       ]
      },
      {
       "output_type": "stream",
       "stream": "stdout",
       "text": [
        "\n",
        "13000"
       ]
      },
      {
       "output_type": "stream",
       "stream": "stdout",
       "text": [
        "\n",
        "14000"
       ]
      },
      {
       "output_type": "stream",
       "stream": "stdout",
       "text": [
        "\n",
        "15000"
       ]
      },
      {
       "output_type": "stream",
       "stream": "stdout",
       "text": [
        "\n",
        "16000"
       ]
      },
      {
       "output_type": "stream",
       "stream": "stdout",
       "text": [
        "\n",
        "17000"
       ]
      },
      {
       "output_type": "stream",
       "stream": "stdout",
       "text": [
        "\n",
        "18000"
       ]
      },
      {
       "output_type": "stream",
       "stream": "stdout",
       "text": [
        "\n",
        "19000"
       ]
      },
      {
       "output_type": "stream",
       "stream": "stdout",
       "text": [
        "\n",
        "20000"
       ]
      },
      {
       "output_type": "stream",
       "stream": "stdout",
       "text": [
        "\n"
       ]
      }
     ],
     "prompt_number": 374
    },
    {
     "cell_type": "code",
     "collapsed": false,
     "input": [
      "cds_df.sort(columns=['chr','start'],inplace=True)\n",
      "#cds_df.to_csv('refseq_exon.bed',sep='\\t',header=False,index=False)"
     ],
     "language": "python",
     "metadata": {},
     "outputs": [],
     "prompt_number": 377
    },
    {
     "cell_type": "heading",
     "level": 3,
     "metadata": {},
     "source": [
      "Making a CDS bed file"
     ]
    },
    {
     "cell_type": "code",
     "collapsed": false,
     "input": [
      "#Split gene_ids into chunks of 1000\n",
      "gene_id_chunks = [[]]\n",
      "for n,gene_id in enumerate(gene_ids_df.entrezgene):\n",
      "    if n % 1000 == 0 and n != 0:\n",
      "        gene_id_chunks.append([])\n",
      "    gene_id_chunks[-1].append(gene_id)\n",
      "    \n",
      "\n",
      "gene_exons_df = []\n",
      "for gene_ids in gene_id_chunks:\n",
      "    q_many = mg.querymany(qterms=gene_ids,fields='exons_hg19', as_dataframe=True)\n",
      "    q_many.dropna(subset=['exons_hg19'], inplace=True)\n",
      "    gene_exons_df.append(q_many)\n",
      "    "
     ],
     "language": "python",
     "metadata": {},
     "outputs": [
      {
       "output_type": "stream",
       "stream": "stdout",
       "text": [
        "Finished.\n",
        "Finished."
       ]
      },
      {
       "output_type": "stream",
       "stream": "stdout",
       "text": [
        "\n",
        "Finished."
       ]
      },
      {
       "output_type": "stream",
       "stream": "stdout",
       "text": [
        "\n",
        "Finished."
       ]
      },
      {
       "output_type": "stream",
       "stream": "stdout",
       "text": [
        "\n",
        "Finished."
       ]
      },
      {
       "output_type": "stream",
       "stream": "stdout",
       "text": [
        "\n",
        "Finished."
       ]
      },
      {
       "output_type": "stream",
       "stream": "stdout",
       "text": [
        "\n",
        "Finished."
       ]
      },
      {
       "output_type": "stream",
       "stream": "stdout",
       "text": [
        "\n",
        "Finished."
       ]
      },
      {
       "output_type": "stream",
       "stream": "stdout",
       "text": [
        "\n",
        "Finished."
       ]
      },
      {
       "output_type": "stream",
       "stream": "stdout",
       "text": [
        "\n",
        "Finished."
       ]
      },
      {
       "output_type": "stream",
       "stream": "stdout",
       "text": [
        "\n",
        "Finished."
       ]
      },
      {
       "output_type": "stream",
       "stream": "stdout",
       "text": [
        "\n",
        "Finished."
       ]
      },
      {
       "output_type": "stream",
       "stream": "stdout",
       "text": [
        "\n",
        "Finished."
       ]
      },
      {
       "output_type": "stream",
       "stream": "stdout",
       "text": [
        "\n",
        "Finished."
       ]
      },
      {
       "output_type": "stream",
       "stream": "stdout",
       "text": [
        "\n",
        "Finished."
       ]
      },
      {
       "output_type": "stream",
       "stream": "stdout",
       "text": [
        "\n",
        "Finished."
       ]
      },
      {
       "output_type": "stream",
       "stream": "stdout",
       "text": [
        "\n",
        "Finished."
       ]
      },
      {
       "output_type": "stream",
       "stream": "stdout",
       "text": [
        "\n",
        "Finished."
       ]
      },
      {
       "output_type": "stream",
       "stream": "stdout",
       "text": [
        "\n",
        "Finished."
       ]
      },
      {
       "output_type": "stream",
       "stream": "stdout",
       "text": [
        "\n",
        "Finished."
       ]
      },
      {
       "output_type": "stream",
       "stream": "stdout",
       "text": [
        "\n",
        "Finished."
       ]
      },
      {
       "output_type": "stream",
       "stream": "stdout",
       "text": [
        "\n",
        "Finished."
       ]
      },
      {
       "output_type": "stream",
       "stream": "stdout",
       "text": [
        "\n",
        "7 input query terms found dup hits:\n",
        "\t[(u'644717', 2), (u'9103', 2), (u'101060171', 2), (u'100130097', 2), (u'653268', 2), (u'89778', 2), \n",
        "Pass \"returnall=True\" to return complete lists of duplicate or missing query terms.\n"
       ]
      }
     ],
     "prompt_number": 202
    },
    {
     "cell_type": "code",
     "collapsed": false,
     "input": [
      "gene_exons_df = pd.concat(gene_exons_df)"
     ],
     "language": "python",
     "metadata": {},
     "outputs": [],
     "prompt_number": 203
    },
    {
     "cell_type": "heading",
     "level": 3,
     "metadata": {},
     "source": [
      "Get VCF Exon df"
     ]
    },
    {
     "cell_type": "code",
     "collapsed": false,
     "input": [
      "def get_fi_score(chrom, start, end, score_id1, score_id2):\n",
      "    '''\n",
      "    Input mv.query_variant['hits']['hits']\n",
      "    '''\n",
      "    assert 'chr' in chrom, 'chr not in chrom'\n",
      "    start = str(int(start))\n",
      "    end = str(int(end))\n",
      "    \n",
      "    my_var = mv.query_variant( chrom + \":\" + start + \"-\" + end , size=2000)  #  \"chr1:100000-1000000\")\n",
      "    hits = my_var['hits']['hits']\n",
      "    \n",
      "\n",
      "    fi_scores = []\n",
      "    counter = 0\n",
      "    for i in hits:\n",
      "        try:\n",
      "            fi_scores.append([i['_source']['dbnsfp'][score_id1][score_id2], i['_source']['_id']])\n",
      "        except:\n",
      "            counter +=1\n",
      "            continue\n",
      "    \n",
      "    #print counter\n",
      "    if len(fi_scores) == 0: return []\n",
      "    fi_scores = pd.DataFrame.from_records(fi_scores)\n",
      "    #fi_scores = pd.DataFrame.from_records( [[i['_source']['dbnsfp'][score_id1][score_id2], i['_source']['_id']]  for i in hits] )\n",
      "    fi_scores.columns = ['score', 'id'] \n",
      "    fi_scores['POS'] = fi_scores['id'].str.split('.').str[-1].str.split('>').str[0].str[:-1]\n",
      "    fi_scores['REF'] = fi_scores['id'].str.split('.').str[-1].str.split('>').str[0].str[-1]\n",
      "    fi_scores['ALT'] = fi_scores['id'].str.split('.').str[-1].str.split('>').str[-1]\n",
      "    fi_scores['POS_ALT'] = fi_scores['POS'] + '_' + fi_scores['ALT']\n",
      "    fi_scores.set_index('POS_ALT', inplace=True)\n",
      "    fi_scores.sort(columns=['POS'], inplace=True)\n",
      "    return fi_scores\n",
      "    \n",
      "\n",
      "    "
     ],
     "language": "python",
     "metadata": {},
     "outputs": [],
     "prompt_number": 13
    },
    {
     "cell_type": "code",
     "collapsed": false,
     "input": [
      "mesa = pd.read_table('/Users/erickscott/Downloads/141117220353_BDX.txt',sep='\\t',header=None)\n"
     ],
     "language": "python",
     "metadata": {},
     "outputs": [],
     "prompt_number": 16
    },
    {
     "cell_type": "code",
     "collapsed": false,
     "input": [
      "mesa_tabix = mesa[0] + ':' + mesa[1].astype(str) + '-' + mesa[2].astype(str)\n"
     ],
     "language": "python",
     "metadata": {},
     "outputs": [],
     "prompt_number": 24
    },
    {
     "cell_type": "code",
     "collapsed": false,
     "input": [
      "\n",
      "mesa_tabix"
     ],
     "language": "python",
     "metadata": {},
     "outputs": [
      {
       "metadata": {},
       "output_type": "pyout",
       "prompt_number": 25,
       "text": [
        "0       chr5:75360713-75360714\n",
        "1      chr11:61802357-61802358\n",
        "2      chr22:21577778-21577779\n",
        "3          chr19:263645-263646\n",
        "4      chr19:54288906-54288907\n",
        "5          chr19:263524-263525\n",
        "6          chr19:263900-263901\n",
        "7          chr19:263874-263875\n",
        "8      chr19:44911193-44911194\n",
        "9       chr4:87109108-87109109\n",
        "10     chr19:48703159-48703160\n",
        "11    chr1:234722849-234722850\n",
        "12      chr9:15305379-15305380\n",
        "13    chr6:139508528-139508529\n",
        "14    chr1:109275683-109275684\n",
        "...\n",
        "103     chr8:143969374-143969375\n",
        "104    chr11:126374056-126374057\n",
        "105      chr12:57398796-57398797\n",
        "106      chr16:30907165-30907166\n",
        "107       chr8:10826418-10826419\n",
        "108      chr17:39657602-39657603\n",
        "109       chr1:25449241-25449242\n",
        "110     chr2:164684289-164684290\n",
        "111       chr7:21567733-21567734\n",
        "112       chr8:19986710-19986711\n",
        "113      chr18:60181789-60181790\n",
        "114     chr4:102267551-102267552\n",
        "115       chr7:72664688-72664689\n",
        "116      chr16:67894138-67894139\n",
        "117       chr7:73568543-73568544\n",
        "Length: 118, dtype: object"
       ]
      }
     ],
     "prompt_number": 25
    },
    {
     "cell_type": "code",
     "collapsed": false,
     "input": [
      "\n",
      "for i in mesa[3].unique():\n",
      "    print i"
     ],
     "language": "python",
     "metadata": {},
     "outputs": [
      {
       "output_type": "stream",
       "stream": "stdout",
       "text": [
        "rs12916\n",
        "rs174546\n",
        "rs181362\n",
        "rs386000\n",
        "rs439401\n",
        "rs442177\n",
        "rs492602\n",
        "rs514230\n",
        "rs581080\n",
        "rs605066\n",
        "rs629301\n",
        "rs635634\n",
        "rs645040\n",
        "rs737337\n",
        "rs838880\n",
        "rs964184\n",
        "rs1042034\n",
        "rs1169288\n",
        "rs1260326\n",
        "rs1367117\n",
        "rs1495741\n",
        "rs1532085\n",
        "rs1564348\n",
        "rs1689800\n",
        "rs1800562\n",
        "rs1800961\n",
        "rs1883025\n",
        "rs2000999\n",
        "rs2068888\n",
        "rs2072183\n",
        "rs2081687\n",
        "rs2131925\n",
        "rs2247056\n",
        "rs2255141\n",
        "rs2277862\n",
        "rs2290159\n",
        "rs2293889\n",
        "rs2412710\n",
        "rs2479409\n",
        "rs2642442\n",
        "rs2652834\n",
        "rs2737229\n",
        "rs2814944\n",
        "rs2814982\n",
        "rs2902940\n",
        "rs2923084\n",
        "rs2925979\n",
        "rs2929282\n",
        "rs2954029\n",
        "rs2972146\n",
        "rs3136441\n",
        "rs3177928\n",
        "rs3757354\n",
        "rs3764261\n",
        "rs4129767\n",
        "rs4148008\n",
        "rs4299376\n",
        "rs4420638\n",
        "rs4660293\n",
        "rs4731702\n",
        "rs4759375\n",
        "rs4765127\n",
        "rs4846914\n",
        "rs5756931\n",
        "rs6029526\n",
        "rs6065906\n",
        "rs6450176\n",
        "rs6511720\n",
        "rs6882076\n",
        "rs7134375\n",
        "rs7134594\n",
        "rs7206971\n",
        "rs7241918\n",
        "rs7255436\n",
        "rs7515577\n",
        "rs7570971\n",
        "rs7941030\n",
        "rs8017377\n",
        "rs9488822\n",
        "rs9686661\n",
        "rs9987289\n",
        "rs10128711\n",
        "rs10195252\n",
        "rs10401969\n",
        "rs10761731\n",
        "rs11065987\n",
        "rs11136341\n",
        "rs11220462\n",
        "rs11613352\n",
        "rs11649653\n",
        "rs11776767\n",
        "rs11869286\n",
        "rs12027135\n",
        "rs12328675\n",
        "rs12670798\n",
        "rs12678919\n",
        "rs12967135\n",
        "rs13107325\n",
        "rs13238203\n",
        "rs16942887\n",
        "rs17145738\n"
       ]
      }
     ],
     "prompt_number": 22
    },
    {
     "cell_type": "code",
     "collapsed": false,
     "input": [],
     "language": "python",
     "metadata": {},
     "outputs": []
    }
   ],
   "metadata": {}
  }
 ]
}